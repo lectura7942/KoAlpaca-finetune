{
 "cells": [
  {
   "attachments": {},
   "cell_type": "markdown",
   "metadata": {},
   "source": [
    "# polygot fine tuning 데이터셋 제작\n",
    "\n",
    "데이터 예시:\n",
    "\n",
    "{\"text\": \"### 명령어: 다음의 떡볶이에 대한 리뷰를 특성 세부설명 형식으로 요약하세요\\n\\n### 리뷰: 추억의 국민학교 떡볶이 오리지널 냉동 600g 2개 후기 배송날짜 23년 04월 24일 유통기한 24년 03월 20일주문하여 로켓프레시 배송으로 신선하게 배송되었어요 간편한 냉동보관 조리 제품 올인원 다 때려넣으면 떡볶이 완성은근 양이 많네요 1패키지에 2 3인분 용량입니다 600g1팩당 1165칼로리저는 떡볶이 밀떡파라서 만족하며 먹었네요조리방법대로 10분 정도 떡을 찬물에 담군 후에 손으로 떼어주었어요 보통 같으면 당면이나 파 양파등 다양한 부재료를 손질하여 해먹었을텐데배가 고파서 아무것도 준비 안하고 먹었네요냉동보관 제품으로 아무때나 꺼내 먹을 수 있는게 가장 큰 장점입니다배송 감사합니다 많이 파세요저도 상품을 구매할때 리뷰로 도움을 많이 받은만큼솔직하게 적어보았습니다도움이 되었다면 도움이 돼요 꾹 눌러주시면 감사하겠습니다\\n\\n### 요약: <양> 1패키지에 2 3인분 용량 <양> 1팩당 1165 칼로리 <재료> 밀떡 <조리> 10분 정도 떡을 찬물에 담군 후에 손으로 떼어주었어요 <보관> 냉동보관<|endoftext|>\"}"
   ]
  },
  {
   "cell_type": "code",
   "execution_count": 14,
   "metadata": {},
   "outputs": [
    {
     "data": {
      "text/html": [
       "<div>\n",
       "<style scoped>\n",
       "    .dataframe tbody tr th:only-of-type {\n",
       "        vertical-align: middle;\n",
       "    }\n",
       "\n",
       "    .dataframe tbody tr th {\n",
       "        vertical-align: top;\n",
       "    }\n",
       "\n",
       "    .dataframe thead th {\n",
       "        text-align: right;\n",
       "    }\n",
       "</style>\n",
       "<table border=\"1\" class=\"dataframe\">\n",
       "  <thead>\n",
       "    <tr style=\"text-align: right;\">\n",
       "      <th></th>\n",
       "      <th>Unnamed: 0</th>\n",
       "      <th>review_id</th>\n",
       "      <th>search_name</th>\n",
       "      <th>prod_name</th>\n",
       "      <th>review</th>\n",
       "      <th>summary</th>\n",
       "    </tr>\n",
       "    <tr>\n",
       "      <th>id</th>\n",
       "      <th></th>\n",
       "      <th></th>\n",
       "      <th></th>\n",
       "      <th></th>\n",
       "      <th></th>\n",
       "      <th></th>\n",
       "    </tr>\n",
       "  </thead>\n",
       "  <tbody>\n",
       "    <tr>\n",
       "      <th>2</th>\n",
       "      <td>3</td>\n",
       "      <td>2</td>\n",
       "      <td>떡볶이</td>\n",
       "      <td>떡볶이 추억의 국민학교 떡볶이 오리지널 (냉동), 600g, 2개</td>\n",
       "      <td>맛 가성비 재구매 의사 냉동 떡볶이 중 최고입니다. 떡볶이 당길 때 바로 해먹을 수...</td>\n",
       "      <td>&lt;양&gt; 세 식구 한끼 식사 &lt;조리&gt; 재료들을 한꺼번에 끓이면 돼서 조리가 편해요 &lt;...</td>\n",
       "    </tr>\n",
       "    <tr>\n",
       "      <th>28</th>\n",
       "      <td>4</td>\n",
       "      <td>64</td>\n",
       "      <td>떡볶이</td>\n",
       "      <td>떡볶이 오마뎅 진짜 부산 떡볶이 (냉동), 322g, 2개</td>\n",
       "      <td>제 다이어트 적 1순위는 단연코 떡볶이예요. 어쩜 먹어도 매일 맛있는지.. 덕분에 ...</td>\n",
       "      <td>&lt;가격&gt; 가격이 착하지는 않은데 &lt;식감&gt; 떡도 쫄깃한 식감에 어묵도 식감이 쫄깃하니...</td>\n",
       "    </tr>\n",
       "  </tbody>\n",
       "</table>\n",
       "</div>"
      ],
      "text/plain": [
       "    Unnamed: 0  review_id search_name                             prod_name  \\\n",
       "id                                                                            \n",
       "2            3          2         떡볶이  떡볶이 추억의 국민학교 떡볶이 오리지널 (냉동), 600g, 2개   \n",
       "28           4         64         떡볶이      떡볶이 오마뎅 진짜 부산 떡볶이 (냉동), 322g, 2개   \n",
       "\n",
       "                                               review  \\\n",
       "id                                                      \n",
       "2   맛 가성비 재구매 의사 냉동 떡볶이 중 최고입니다. 떡볶이 당길 때 바로 해먹을 수...   \n",
       "28  제 다이어트 적 1순위는 단연코 떡볶이예요. 어쩜 먹어도 매일 맛있는지.. 덕분에 ...   \n",
       "\n",
       "                                              summary  \n",
       "id                                                     \n",
       "2   <양> 세 식구 한끼 식사 <조리> 재료들을 한꺼번에 끓이면 돼서 조리가 편해요 <...  \n",
       "28  <가격> 가격이 착하지는 않은데 <식감> 떡도 쫄깃한 식감에 어묵도 식감이 쫄깃하니...  "
      ]
     },
     "metadata": {},
     "output_type": "display_data"
    },
    {
     "name": "stdout",
     "output_type": "stream",
     "text": [
      "매콤하고 달달하길 기대했는데 단맛이 더 강해요. 왜 이렇게 달콤하기만 하지 하며 먹었네요. 처음에 떡이 진짜 길이도 손가락만 하게 짧아서 양이 너무 적겠다. 싶었어요. 3개 들었다는 건 후기 보고 잘 알고 있었거든요. 그런데 다행히 요리하니 조금 퍼지며 먹기 좋은 양이 되더라고요. 신기신기 어묵이 특별히 더 맛있거나 쫄깃한 건 전혀 못 느꼈고요. 라면 사리는 넣길 잘했더라고요. 강추해요. 요. 떡볶이 한 세트로만은 양이 좀 적고 라볶이로 하니 한 끼 때우기 좋았네요.\n"
     ]
    }
   ],
   "source": [
    "import pandas as pd\n",
    "import re\n",
    "\n",
    "data = pd.read_csv(\"/opt/ml/input/data/review_summary_prototype_dataset_v0.2_valid.csv\")\n",
    "data.set_index(\"id\", inplace=True)\n",
    "# data.iloc: 위치로 접근\n",
    "# data.loc: id로 접근\n",
    "\n",
    "# 특수문자, 초성어 제거\n",
    "def clean_text(sent):\n",
    "    sent_clean = re.sub(\"[^가-힣ㄱ-ㅎㅏ-ㅣ\\\\s0-9a-zA-Z]\", \" \", sent)\n",
    "    sent_clean = re.sub(\"[ㄱ-ㅎㅏ-ㅣ]+\", \"\", sent_clean)\n",
    "    sent_clean = \" \".join(sent_clean.split())\n",
    "    return sent_clean\n",
    "\n",
    "# data[\"input\"] = data[\"input\"].apply(clean_text)\n",
    "\n",
    "display(data.tail(2))\n",
    "print(data.iloc[0][\"review\"])"
   ]
  },
  {
   "attachments": {},
   "cell_type": "markdown",
   "metadata": {},
   "source": [
    "## (성능 안 좋음) Tag 삭제"
   ]
  },
  {
   "cell_type": "code",
   "execution_count": 17,
   "metadata": {},
   "outputs": [],
   "source": [
    "# import re\n",
    "\n",
    "# def remove_tag(x):\n",
    "#     xlist = [i.strip() for i in re.split(\"<[^>]*>\", x) if len(i)>0]\n",
    "#     return \". \".join(xlist)\n",
    "\n",
    "# data[\"output\"] = data[\"output\"].apply(remove_tag)\n",
    "# data[\"instruction\"] = data[\"instruction\"].apply(lambda x: re.sub(\" <특성> 세부설명 형식으로\", \"\", x) + \".\")\n",
    "\n",
    "# print(data.iloc[0][\"instruction\"], end=\"\\n\\n\")\n",
    "# print(data.iloc[0][\"input\"], end=\"\\n\\n\")\n",
    "# print(data.iloc[0][\"output\"], end=\"\\n\\n\")"
   ]
  },
  {
   "attachments": {},
   "cell_type": "markdown",
   "metadata": {},
   "source": [
    "## 프롬프트 다른 버젼\n",
    "\n",
    "```\n",
    "### 상품: search_name + 상품명\n",
    "\n",
    "### 리뷰:\n",
    "\n",
    "### 요약:\n",
    "```"
   ]
  },
  {
   "cell_type": "code",
   "execution_count": 18,
   "metadata": {},
   "outputs": [],
   "source": [
    "# 0_e5: instruction에 <> 없음"
   ]
  },
  {
   "attachments": {},
   "cell_type": "markdown",
   "metadata": {},
   "source": [
    "## 입력 데이터 제작"
   ]
  },
  {
   "cell_type": "code",
   "execution_count": 19,
   "metadata": {},
   "outputs": [
    {
     "name": "stdout",
     "output_type": "stream",
     "text": [
      "### 명령어: 주어진 떡볶이 상품 리뷰에서 상품의 특성을 추출해서 요약하세요.\n",
      "\n",
      "### 리뷰: 매콤하고 달달하길 기대했는데 단맛이 더 강해요. 왜 이렇게 달콤하기만 하지 하며 먹었네요. 처음에 떡이 진짜 길이도 손가락만 하게 짧아서 양이 너무 적겠다. 싶었어요. 3개 들었다는 건 후기 보고 잘 알고 있었거든요. 그런데 다행히 요리하니 조금 퍼지며 먹기 좋은 양이 되더라고요. 신기신기 어묵이 특별히 더 맛있거나 쫄깃한 건 전혀 못 느꼈고요. 라면 사리는 넣길 잘했더라고요. 강추해요. 요. 떡볶이 한 세트로만은 양이 좀 적고 라볶이로 하니 한 끼 때우기 좋았네요.\n",
      "\n",
      "### 요약: <맛> 단맛이 더 강해요 <양> 떡이 퍼지며 먹기 좋은 양이 되더라구요 <맛> 오뎅이 특별히 더 맛있거나 쫄깃한 건 못 느꼈구요 <양> 떡볶이 한 세트로만은 양이 적고<|endoftext|>\n"
     ]
    }
   ],
   "source": [
    "def build_text(item):\n",
    "    instruction = f\"주어진 {item.search_name.strip()} 상품 리뷰에서 상품의 특성을 추출해서 요약하세요.\"\n",
    "    \n",
    "    text = ( # multi-line string\n",
    "        \"### 명령어: \" + instruction + \"\\n\\n\"\n",
    "        \"### 리뷰: \" + item.review.strip() + \"\\n\\n\"\n",
    "        \"### 요약: \" + item.summary.strip() + \"<|endoftext|>\"\n",
    "    )\n",
    "    return text\n",
    "\n",
    "print(build_text(data.iloc[0]))"
   ]
  },
  {
   "cell_type": "code",
   "execution_count": 20,
   "metadata": {},
   "outputs": [
    {
     "name": "stdout",
     "output_type": "stream",
     "text": [
      "<class 'dict'> {'text': '### 명령어: 주어진 떡볶이 상품 리뷰에서 상품의 특성을 추출해서 요약하세요.\\n\\n### 리뷰: 매콤하고 달달하길 기대했는데 단맛이 더 강해요. 왜 이렇게 달콤하기만 하지 하며 먹었네요. 처음에 떡이 진짜 길이도 손가락만 하게 짧아서 양이 너무 적겠다. 싶었어요. 3개 들었다는 건 후기 보고 잘 알고 있었거든요. 그런데 다행히 요리하니 조금 퍼지며 먹기 좋은 양이 되더라고요. 신기신기 어묵이 특별히 더 맛있거나 쫄깃한 건 전혀 못 느꼈고요. 라면 사리는 넣길 잘했더라고요. 강추해요. 요. 떡볶이 한 세트로만은 양이 좀 적고 라볶이로 하니 한 끼 때우기 좋았네요.\\n\\n### 요약: <맛> 단맛이 더 강해요 <양> 떡이 퍼지며 먹기 좋은 양이 되더라구요 <맛> 오뎅이 특별히 더 맛있거나 쫄깃한 건 못 느꼈구요 <양> 떡볶이 한 세트로만은 양이 적고<|endoftext|>'}\n"
     ]
    }
   ],
   "source": [
    "data_list = []\n",
    "for item in data.itertuples():\n",
    "    text = build_text(item)\n",
    "    item_dict = {\n",
    "        \"text\": text\n",
    "    }\n",
    "    data_list.append(item_dict)\n",
    "print(type(data_list[0]), data_list[0])"
   ]
  },
  {
   "cell_type": "code",
   "execution_count": 21,
   "metadata": {},
   "outputs": [],
   "source": [
    "import json\n",
    "with open(\"../../data/review_summary_prototype_textonly_v0.2_valid.json\", \"w\", encoding=\"utf-8\") as f:\n",
    "    json.dump(data_list, f, ensure_ascii=False)"
   ]
  },
  {
   "cell_type": "markdown",
   "metadata": {},
   "source": [
    "# v1.0 프롬프트"
   ]
  },
  {
   "cell_type": "code",
   "execution_count": 5,
   "metadata": {},
   "outputs": [],
   "source": [
    "# json에서 가져오기\n",
    "import pandas as pd\n",
    "import json\n",
    "\n",
    "# data = pd.read_json(\"/opt/ml/input/data/review_summary_v1.0.json\")\n",
    "data = pd.read_json(\"/opt/ml/input/data/v3.5/summary_v3.5_1500_train.json\")\n",
    "data = data[[\"id\", \"prod_name\", \"review\", \"summary\"]]\n",
    "\n",
    "def build_text(item):\n",
    "\n",
    "    text = (  # multi-line string\n",
    "        f\"### 명령어: 다음 상품에 대한 리뷰에서 상품의 특성을 요약하세요\\n\\n\"\n",
    "        \"### 리뷰: \" + item.review + \"\\n\\n\"\n",
    "        \"### 요약: \" + item.summary + \"<|endoftext|>\"\n",
    "    )\n",
    "    return text\n",
    "\n",
    "data_list = []\n",
    "for item in data.itertuples():\n",
    "    text = build_text(item)\n",
    "    item_dict = {\n",
    "        \"text\": text\n",
    "    }\n",
    "    data_list.append(item_dict)\n",
    "    \n",
    "with open(\"/opt/ml/input/data/v3.5/koalpaca_textonly.json\", \"w\", encoding=\"utf-8\") as f:\n",
    "    json.dump(data_list, f, ensure_ascii=False)"
   ]
  },
  {
   "attachments": {},
   "cell_type": "markdown",
   "metadata": {},
   "source": [
    "## 데이터셋 잘 불러오는지 확인"
   ]
  },
  {
   "cell_type": "code",
   "execution_count": 6,
   "metadata": {},
   "outputs": [
    {
     "name": "stderr",
     "output_type": "stream",
     "text": [
      "/opt/conda/envs/common/lib/python3.8/site-packages/tqdm/auto.py:21: TqdmWarning: IProgress not found. Please update jupyter and ipywidgets. See https://ipywidgets.readthedocs.io/en/stable/user_install.html\n",
      "  from .autonotebook import tqdm as notebook_tqdm\n"
     ]
    },
    {
     "name": "stdout",
     "output_type": "stream",
     "text": [
      "Downloading and preparing dataset json/default to /opt/ml/.cache/huggingface/datasets/json/default-986d325c93c547a5/0.0.0/8bb11242116d547c741b2e8a1f18598ffdd40a1d4f2a2872c7a28b697434bc96...\n"
     ]
    },
    {
     "name": "stderr",
     "output_type": "stream",
     "text": [
      "Downloading data files: 100%|██████████| 1/1 [00:00<00:00, 5691.05it/s]\n",
      "Extracting data files: 100%|██████████| 1/1 [00:00<00:00, 936.86it/s]\n",
      "                                                                 \r"
     ]
    },
    {
     "name": "stdout",
     "output_type": "stream",
     "text": [
      "Dataset json downloaded and prepared to /opt/ml/.cache/huggingface/datasets/json/default-986d325c93c547a5/0.0.0/8bb11242116d547c741b2e8a1f18598ffdd40a1d4f2a2872c7a28b697434bc96. Subsequent calls will reuse this data.\n"
     ]
    },
    {
     "name": "stderr",
     "output_type": "stream",
     "text": [
      "100%|██████████| 1/1 [00:00<00:00, 557.38it/s]\n"
     ]
    }
   ],
   "source": [
    "from datasets import load_dataset\n",
    "dataset = load_dataset(\n",
    "            \"json\",\n",
    "            data_files=\"/opt/ml/input/data/v3.5/koalpaca_textonly.json\",\n",
    "            # cache_dir=model_args.cache_dir,\n",
    "            # use_auth_token=True if model_args.use_auth_token else None,\n",
    "            # **dataset_args,\n",
    "        )"
   ]
  },
  {
   "cell_type": "code",
   "execution_count": 7,
   "metadata": {},
   "outputs": [
    {
     "name": "stdout",
     "output_type": "stream",
     "text": [
      "DatasetDict({\n",
      "    train: Dataset({\n",
      "        features: ['text'],\n",
      "        num_rows: 6033\n",
      "    })\n",
      "})\n",
      "### 명령어: 다음 상품에 대한 리뷰에서 상품의 특성을 요약하세요\n",
      "\n",
      "### 리뷰: 여러 번 씻고 밥을 하니 밥하는 냄새부터 아주 고소합니다. 다 된 밥 열어보니 역시 믿고 먹는 메뚜기쌀이네. 요 윤기도 좔좔 찰기도 쫀득 너무 맛있네요. 밥만 먹어도 달달함과 고소함이 있어요. 첫 수저를 먹자마자 어 이게 아닌데 쓰 읍했습니다. 제 메모장에 적어 놓았지요 쌀 포대 풀 때 정말 편리해요. 판매자님의 배려를 200 느낍니다. 앞으로도 변치 않는 품질로 사업하시어 대박 민소매기를 바랍니다. 쌀 10kg 이면 15리터 페트병으로 5개 몇 컵 정도 나와요. 거의 저녁만 먹는 유아 2명 4인 가족이 한 달 정도 먹는 양이에요. 쌀눈이 꽤 많이 붙어 있어요. 밥을 하면 적당히 찰지고 적당히 윤기가 나는 밥이 됩니다. 등급 표시를 보니 이렇게 되어있네요. 쌀눈은 약간 반투명색이고 쌀 크기는 크지도 작지도 않네요. 저희 집은 그냥 흰밥을 먹지 않고 흑미 한주먹씩 섞어서 같이 먹는답니다. 근데 김밥 쌀 때우는 그냥 흰쌀만 해도 밥맛이 좋더라고요. 메뚜기쌀은 굳이 불리지 않고 밥을 바로 해도 고소하고 윤기 있는 맛있는 밥이 돼 더라고요. 가성비도 좋고 국산 창녕 쌀에 맛도 무난해서 전 다 먹고 나서도 꾸준히 메뚜기쌀 또 먹을 거예요. 2020년 생산된 쌀로 12월 10일 도정된 최근 일자 백이랍니다. 굿네이버스에 착한 선행에도 앞장선다고 하니 왠지 더더욱 믿음도 가고 자주 애용도 해야 할 것 같다는 생각이 들었습니다. 물에 담가 씻어보니 생각보다 쌀뜨물이 뿌옇습니다. 현미찹쌀을 조금 섞어서 지어 먹었는데 향도 좋고 맛도 좋네요. 윤기가 좔좔 흐르는 쌀밥은 안되지만 가성비 좋은 쌀이므로 만족하고 먹겠습니다. 농협이라고 마크 붙어 있는 것이 항상 쌀알도 매끈하고 도정이 깨끗하게 와요. 마트 쌀은 20킬로는 5만 6만 대 인대 밥맛은 농협쌀이랑 비슷해요. 엄청 브랜드쌀 아닌 이상 밥맛은 비슷하여 아주 만족입니다. 잡곡과 섞어 밥물 평소와 같이 맞췄는데 쌀이 원래 찰진지 고들 하지 않고 윤기나고 찰진 밥이 되었네요. 잘 못 사면 밥맛이 퍼석퍼석하고 김밥천국 맛 나는데 조각난 쌀도 아니고 밥맛은 당연히 좋았습니다. 쌀 좋아요 저가는 너무 쌀 알갱이가 조그마하고 부서진 것도 많아서 상 등급으로 사봤는데 맛있네요. 시댁에서 쌀을 가져다 먹는데 요즘 신랑이 바빠서 잘 안 가게 되니 쌀이 똑떨어져 급하게 알아봤어요. 매끈하고 윤기가 나는 쌀 맛있게 잘 먹었어요. 밥을 할 때 밥 물을 많이 잡지 않아도 맛있고 찰진 밥이 되고 볶음밥을 해도. 질척거리거나 하지 않더라고요. 도정 날짜를 보니 최근이에요. 쌀 씻을 때도 많이 씻지 않아도 되는 깨끗한 쌀. 밥은 좀 비싸더라도 좋은 것 먹자는 아기 아빠 탁배상자에 10kg 10kg씩 잘 담아 왔고요 쌀 포대 끝부분 끝을 당기니 너무 쉽게 잘 풀리네요. 쌀알도 금 가거나 절단된 것 하나 없이 예쁘고 깨끗하게 잘 왔어요.\n",
      "\n",
      "### 요약: <맛> 씻고 밥하는 냄새부터 고소함과 달달함 <조리> 윤기도 좔좔 찰기도 쫀득 <맛> 밥만 먹어도 달달함과 고소함 <품질> 변치 않는 품질로 사업 <사용량> 10kg이면 15리터 페트병으로 5개 몇 컵 <품질> 쌀눈이 꽤 많이 붙어 있어요 <맛> 국산 창녕 쌀에 맛도 무난 <맛> 김밥 쌀 때우는 그냥 흰쌀만 해도 밥맛이 좋아요 <맛> 메뚜기쌀은 굳이 불리지 않고 밥을 바로 해도 고소하고 윤기 있는 맛있는 밥 <맛> 가성비도 좋고 국산 창녕 쌀에 맛도 무난해서 <품질> 2020년 생산된 쌀로 12월 10일 도정 <품질> 농협이라고 마크 붙어 있는 것이 항상 쌀알도 매끈하고 도정이 깨끗하게 와요 <맛> 엄청 브랜드쌀 아닌 이상 밥맛은 비슷하여 아주 만족 <맛> 잡곡과 섞어 밥물 평소와 같이 맞추면 쌀이 원래 찰진지 고들 하지 않고 윤기나고 찰진 밥 <품질> 쌀 알갱이가 조그마하고 부서진 것도 많아서 상 등급으로 사봤는데 <맛> 맛있네요 <품질> 최근이에요 <맛> 밥 물을 많이 잡지 않아도 맛있고 찰진 밥이 되고 볶음밥을 해도 질척거리거나 하지 않더라고요 <품질> 깨끗한 쌀 밥은 좀 비싸더라도 좋은 것 먹자는 <품질> 쌀 포대 끝부분 끝을 당기니 너무 쉽게 잘 풀리네요 <품질> 쌀알도 금 가거나 절단된 것 하나 없이 예쁘고 깨끗하게 잘 왔어요<|endoftext|>\n"
     ]
    }
   ],
   "source": [
    "print(dataset)\n",
    "print(dataset[\"train\"][\"text\"][0])"
   ]
  },
  {
   "attachments": {},
   "cell_type": "markdown",
   "metadata": {},
   "source": [
    "# KoAlpaca 추가 fine tuning 데이터셋 제작\n",
    "\n",
    "KoAlpaca 예시:\n",
    "\n",
    "{\"text\":\"### 질문: 양파는 어떤 식물 부위인가요? 그리고 고구마는 뿌리인가요?\\n\\n### 답변: 양파는 잎이 아닌 식물의 줄기 부분입니다. 고구마는 식물의 뿌리 부분입니다. \\n\\n식물의 부위의 구분에 대해 궁금해하는 분이라면 분명 이 질문에 대한 답을 찾고 있을 것입니다. 양파는 잎이 아닌 줄기 부분입니다. 고구마는 다른 질문과 답변에서 언급된 것과 같이 뿌리 부분입니다. 따라서, 양파는 식물의 줄기 부분이 되고, 고구마는 식물의 뿌리 부분입니다.\\n\\n 덧붙이는 답변: 고구마 줄기도 볶아먹을 수 있나요? \\n\\n고구마 줄기도 식용으로 볶아먹을 수 있습니다. 하지만 줄기 뿐만 아니라, 잎, 씨, 뿌리까지 모든 부위가 식용으로 활용되기도 합니다. 다만, 한국에서는 일반적으로 뿌리 부분인 고구마를 주로 먹습니다.<|endoftext|>\"}"
   ]
  },
  {
   "cell_type": "code",
   "execution_count": 7,
   "metadata": {},
   "outputs": [
    {
     "data": {
      "text/html": [
       "<div>\n",
       "<style scoped>\n",
       "    .dataframe tbody tr th:only-of-type {\n",
       "        vertical-align: middle;\n",
       "    }\n",
       "\n",
       "    .dataframe tbody tr th {\n",
       "        vertical-align: top;\n",
       "    }\n",
       "\n",
       "    .dataframe thead th {\n",
       "        text-align: right;\n",
       "    }\n",
       "</style>\n",
       "<table border=\"1\" class=\"dataframe\">\n",
       "  <thead>\n",
       "    <tr style=\"text-align: right;\">\n",
       "      <th></th>\n",
       "      <th>search_name</th>\n",
       "      <th>instruction</th>\n",
       "      <th>input</th>\n",
       "      <th>output</th>\n",
       "    </tr>\n",
       "    <tr>\n",
       "      <th>id</th>\n",
       "      <th></th>\n",
       "      <th></th>\n",
       "      <th></th>\n",
       "      <th></th>\n",
       "    </tr>\n",
       "  </thead>\n",
       "  <tbody>\n",
       "    <tr>\n",
       "      <th>707</th>\n",
       "      <td>떡볶이</td>\n",
       "      <td>다음의 떡볶이에 대한 리뷰를 &lt;특성&gt; 세부설명 형식으로 요약하세요</td>\n",
       "      <td>추억의 국민학교 떡볶이 오리지널 냉동 600g 2개 후기 배송날짜 23년 04월 2...</td>\n",
       "      <td>&lt;양&gt; 1패키지에 2 3인분 용량 &lt;양&gt; 1팩당 1165 칼로리 &lt;재료&gt; 밀떡 &lt;조...</td>\n",
       "    </tr>\n",
       "    <tr>\n",
       "      <th>708</th>\n",
       "      <td>떡볶이</td>\n",
       "      <td>다음의 떡볶이에 대한 리뷰를 &lt;특성&gt; 세부설명 형식으로 요약하세요</td>\n",
       "      <td>맛 가성비 재구매의사 냉동 떡볶이중 최고입니다떡복이 땡길때 바로 해먹을수 있어서 좋...</td>\n",
       "      <td>&lt;양&gt; 세 식구 한끼 식사 &lt;조리&gt; 재료들을 한꺼번에 끓이면 돼서 조리가 편해요 &lt;...</td>\n",
       "    </tr>\n",
       "  </tbody>\n",
       "</table>\n",
       "</div>"
      ],
      "text/plain": [
       "    search_name                           instruction  \\\n",
       "id                                                      \n",
       "707         떡볶이  다음의 떡볶이에 대한 리뷰를 <특성> 세부설명 형식으로 요약하세요   \n",
       "708         떡볶이  다음의 떡볶이에 대한 리뷰를 <특성> 세부설명 형식으로 요약하세요   \n",
       "\n",
       "                                                 input  \\\n",
       "id                                                       \n",
       "707  추억의 국민학교 떡볶이 오리지널 냉동 600g 2개 후기 배송날짜 23년 04월 2...   \n",
       "708  맛 가성비 재구매의사 냉동 떡볶이중 최고입니다떡복이 땡길때 바로 해먹을수 있어서 좋...   \n",
       "\n",
       "                                                output  \n",
       "id                                                      \n",
       "707  <양> 1패키지에 2 3인분 용량 <양> 1팩당 1165 칼로리 <재료> 밀떡 <조...  \n",
       "708  <양> 세 식구 한끼 식사 <조리> 재료들을 한꺼번에 끓이면 돼서 조리가 편해요 <...  "
      ]
     },
     "execution_count": 7,
     "metadata": {},
     "output_type": "execute_result"
    }
   ],
   "source": [
    "import pandas as pd\n",
    "import re\n",
    "\n",
    "data = pd.read_csv(\"../../data/review_summary_prototype_dataset.csv\")\n",
    "data.set_index(\"id\", inplace=True)\n",
    "# data.iloc: 위치로 접근\n",
    "# data.loc: id로 접근\n",
    "\n",
    "# 특수문자, 초성어 제거\n",
    "def clean_text(sent)->str:\n",
    "    sent_clean = re.sub(\"[^가-힣ㄱ-ㅎㅏ-ㅣ\\\\s0-9a-zA-Z]\", \" \", sent)\n",
    "    sent_clean = re.sub(\"[ㄱ-ㅎㅏ-ㅣ]+\", \"\", sent_clean)\n",
    "    sent_clean = \" \".join(sent_clean.split())\n",
    "    return sent_clean\n",
    "\n",
    "data[\"input\"] = data[\"input\"].apply(clean_text)\n",
    "\n",
    "data.head(2)"
   ]
  },
  {
   "cell_type": "code",
   "execution_count": 8,
   "metadata": {},
   "outputs": [
    {
     "name": "stdout",
     "output_type": "stream",
     "text": [
      "### 질문: 다음의 떡볶이에 대한 리뷰를 특성 세부설명 형식으로 요약하세요.\n",
      "\n",
      "추억의 국민학교 떡볶이 오리지널 냉동 600g 2개 후기 배송날짜 23년 04월 24일 유통기한 24년 03월 20일주문하여 로켓프레시 배송으로 신선하게 배송되었어요 간편한 냉동보관 조리 제품 올인원 다 때려넣으면 떡볶이 완성은근 양이 많네요 1패키지에 2 3인분 용량입니다 600g1팩당 1165칼로리저는 떡볶이 밀떡파라서 만족하며 먹었네요조리방법대로 10분 정도 떡을 찬물에 담군 후에 손으로 떼어주었어요 보통 같으면 당면이나 파 양파등 다양한 부재료를 손질하여 해먹었을텐데배가 고파서 아무것도 준비 안하고 먹었네요냉동보관 제품으로 아무때나 꺼내 먹을 수 있는게 가장 큰 장점입니다배송 감사합니다 많이 파세요저도 상품을 구매할때 리뷰로 도움을 많이 받은만큼솔직하게 적어보았습니다도움이 되었다면 도움이 돼요 꾹 눌러주시면 감사하겠습니다\n",
      "\n",
      "### 답변: <양> 1패키지에 2 3인분 용량 <양> 1팩당 1165 칼로리 <재료> 밀떡 <조리> 10분 정도 떡을 찬물에 담군 후에 손으로 떼어주었어요 <보관> 냉동보관<|endoftext|>\n"
     ]
    }
   ],
   "source": [
    "def build_text(item):\n",
    "    question = re.sub(\"[<>]\", \"\",item.instruction.strip()) # 0_e5와 같은 형식\n",
    "    \n",
    "    text = ( # multi-line string\n",
    "        \"### 질문: \" + question + \".\\n\\n\"\n",
    "        \"\" + clean_text(item.input.strip()) + \"\\n\\n\"\n",
    "        \"### 답변: \" + item.output.strip() + \"<|endoftext|>\"\n",
    "    )\n",
    "    return text\n",
    "\n",
    "print(build_text(data.iloc[0]))"
   ]
  },
  {
   "cell_type": "code",
   "execution_count": 9,
   "metadata": {},
   "outputs": [
    {
     "name": "stdout",
     "output_type": "stream",
     "text": [
      "<class 'dict'> {'text': '### 질문: 다음의 떡볶이에 대한 리뷰를 특성 세부설명 형식으로 요약하세요.\\n\\n추억의 국민학교 떡볶이 오리지널 냉동 600g 2개 후기 배송날짜 23년 04월 24일 유통기한 24년 03월 20일주문하여 로켓프레시 배송으로 신선하게 배송되었어요 간편한 냉동보관 조리 제품 올인원 다 때려넣으면 떡볶이 완성은근 양이 많네요 1패키지에 2 3인분 용량입니다 600g1팩당 1165칼로리저는 떡볶이 밀떡파라서 만족하며 먹었네요조리방법대로 10분 정도 떡을 찬물에 담군 후에 손으로 떼어주었어요 보통 같으면 당면이나 파 양파등 다양한 부재료를 손질하여 해먹었을텐데배가 고파서 아무것도 준비 안하고 먹었네요냉동보관 제품으로 아무때나 꺼내 먹을 수 있는게 가장 큰 장점입니다배송 감사합니다 많이 파세요저도 상품을 구매할때 리뷰로 도움을 많이 받은만큼솔직하게 적어보았습니다도움이 되었다면 도움이 돼요 꾹 눌러주시면 감사하겠습니다\\n\\n### 답변: <양> 1패키지에 2 3인분 용량 <양> 1팩당 1165 칼로리 <재료> 밀떡 <조리> 10분 정도 떡을 찬물에 담군 후에 손으로 떼어주었어요 <보관> 냉동보관<|endoftext|>'}\n"
     ]
    }
   ],
   "source": [
    "data_list = []\n",
    "for item in data.itertuples():\n",
    "    text = build_text(item)\n",
    "    item_dict = {\n",
    "        \"text\": text\n",
    "    }\n",
    "    data_list.append(item_dict)\n",
    "print(type(data_list[0]), data_list[0])"
   ]
  },
  {
   "cell_type": "code",
   "execution_count": 10,
   "metadata": {},
   "outputs": [
    {
     "ename": "",
     "evalue": "",
     "output_type": "error",
     "traceback": [
      "\u001b[1;31mThe Kernel crashed while executing code in the the current cell or a previous cell. Please review the code in the cell(s) to identify a possible cause of the failure. Click <a href='https://aka.ms/vscodeJupyterKernelCrash'>here</a> for more info. View Jupyter <a href='command:jupyter.viewOutput'>log</a> for further details."
     ]
    }
   ],
   "source": [
    "import json\n",
    "with open(\"../../data/review_summary_prototype_textonly_koalpaca.json\", \"w\", encoding=\"utf-8\") as f:\n",
    "    json.dump(data_list, f, ensure_ascii=False)"
   ]
  },
  {
   "attachments": {},
   "cell_type": "markdown",
   "metadata": {},
   "source": [
    "# 데이터 토큰 개수 확인"
   ]
  },
  {
   "cell_type": "code",
   "execution_count": 6,
   "metadata": {},
   "outputs": [],
   "source": [
    "from transformers import AutoTokenizer\n",
    "tokenizer = AutoTokenizer.from_pretrained(\"EleutherAI/polyglot-ko-5.8b\")"
   ]
  },
  {
   "cell_type": "code",
   "execution_count": 8,
   "metadata": {},
   "outputs": [
    {
     "name": "stdout",
     "output_type": "stream",
     "text": [
      "{'input_ids': [13417, 284, 1934], 'token_type_ids': [0, 0, 0], 'attention_mask': [1, 1, 1]}\n"
     ]
    },
    {
     "data": {
      "text/plain": [
       "['ìķĪëħķ', 'íķĺ', 'ìĦ¸ìļĶ']"
      ]
     },
     "execution_count": 8,
     "metadata": {},
     "output_type": "execute_result"
    }
   ],
   "source": [
    "print(tokenizer(\"안녕하세요\"))\n",
    "tokenizer.tokenize(\"안녕하세요\")"
   ]
  },
  {
   "cell_type": "code",
   "execution_count": 15,
   "metadata": {},
   "outputs": [
    {
     "data": {
      "text/html": [
       "<div>\n",
       "<style scoped>\n",
       "    .dataframe tbody tr th:only-of-type {\n",
       "        vertical-align: middle;\n",
       "    }\n",
       "\n",
       "    .dataframe tbody tr th {\n",
       "        vertical-align: top;\n",
       "    }\n",
       "\n",
       "    .dataframe thead th {\n",
       "        text-align: right;\n",
       "    }\n",
       "</style>\n",
       "<table border=\"1\" class=\"dataframe\">\n",
       "  <thead>\n",
       "    <tr style=\"text-align: right;\">\n",
       "      <th></th>\n",
       "      <th>text</th>\n",
       "    </tr>\n",
       "  </thead>\n",
       "  <tbody>\n",
       "    <tr>\n",
       "      <th>17</th>\n",
       "      <td>### 명령어: 다음의 떡볶이에 대한 리뷰를 특성 세부설명 형식으로 요약하세요\\n\\...</td>\n",
       "    </tr>\n",
       "  </tbody>\n",
       "</table>\n",
       "</div>"
      ],
      "text/plain": [
       "                                                 text\n",
       "17  ### 명령어: 다음의 떡볶이에 대한 리뷰를 특성 세부설명 형식으로 요약하세요\\n\\..."
      ]
     },
     "execution_count": 15,
     "metadata": {},
     "output_type": "execute_result"
    }
   ],
   "source": [
    "import json\n",
    "import pandas as pd\n",
    "with open(\"../data/review_summary_prototype_textonly.json\", \"r\", encoding=\"utf-8\") as f:\n",
    "    data_list = json.load(f)\n",
    "df = pd.DataFrame(data_list)\n",
    "df.sample(1)\n"
   ]
  },
  {
   "cell_type": "code",
   "execution_count": 16,
   "metadata": {},
   "outputs": [
    {
     "data": {
      "text/html": [
       "<div>\n",
       "<style scoped>\n",
       "    .dataframe tbody tr th:only-of-type {\n",
       "        vertical-align: middle;\n",
       "    }\n",
       "\n",
       "    .dataframe tbody tr th {\n",
       "        vertical-align: top;\n",
       "    }\n",
       "\n",
       "    .dataframe thead th {\n",
       "        text-align: right;\n",
       "    }\n",
       "</style>\n",
       "<table border=\"1\" class=\"dataframe\">\n",
       "  <thead>\n",
       "    <tr style=\"text-align: right;\">\n",
       "      <th></th>\n",
       "      <th>text</th>\n",
       "      <th>length</th>\n",
       "    </tr>\n",
       "  </thead>\n",
       "  <tbody>\n",
       "    <tr>\n",
       "      <th>38</th>\n",
       "      <td>### 명령어: 다음의 떡볶이에 대한 리뷰를 특성 세부설명 형식으로 요약하세요\\n\\...</td>\n",
       "      <td>297</td>\n",
       "    </tr>\n",
       "  </tbody>\n",
       "</table>\n",
       "</div>"
      ],
      "text/plain": [
       "                                                 text  length\n",
       "38  ### 명령어: 다음의 떡볶이에 대한 리뷰를 특성 세부설명 형식으로 요약하세요\\n\\...     297"
      ]
     },
     "execution_count": 16,
     "metadata": {},
     "output_type": "execute_result"
    }
   ],
   "source": [
    "def find_length(text):\n",
    "    ids = tokenizer(text).input_ids\n",
    "    return len(ids)\n",
    "\n",
    "df[\"length\"] = df[\"text\"].apply(lambda x: find_length(x))\n",
    "df.sample(1)"
   ]
  },
  {
   "cell_type": "code",
   "execution_count": 17,
   "metadata": {},
   "outputs": [
    {
     "data": {
      "text/html": [
       "<div>\n",
       "<style scoped>\n",
       "    .dataframe tbody tr th:only-of-type {\n",
       "        vertical-align: middle;\n",
       "    }\n",
       "\n",
       "    .dataframe tbody tr th {\n",
       "        vertical-align: top;\n",
       "    }\n",
       "\n",
       "    .dataframe thead th {\n",
       "        text-align: right;\n",
       "    }\n",
       "</style>\n",
       "<table border=\"1\" class=\"dataframe\">\n",
       "  <thead>\n",
       "    <tr style=\"text-align: right;\">\n",
       "      <th></th>\n",
       "      <th>length</th>\n",
       "    </tr>\n",
       "  </thead>\n",
       "  <tbody>\n",
       "    <tr>\n",
       "      <th>count</th>\n",
       "      <td>87.000000</td>\n",
       "    </tr>\n",
       "    <tr>\n",
       "      <th>mean</th>\n",
       "      <td>272.781609</td>\n",
       "    </tr>\n",
       "    <tr>\n",
       "      <th>std</th>\n",
       "      <td>66.955630</td>\n",
       "    </tr>\n",
       "    <tr>\n",
       "      <th>min</th>\n",
       "      <td>79.000000</td>\n",
       "    </tr>\n",
       "    <tr>\n",
       "      <th>25%</th>\n",
       "      <td>235.000000</td>\n",
       "    </tr>\n",
       "    <tr>\n",
       "      <th>50%</th>\n",
       "      <td>275.000000</td>\n",
       "    </tr>\n",
       "    <tr>\n",
       "      <th>75%</th>\n",
       "      <td>313.500000</td>\n",
       "    </tr>\n",
       "    <tr>\n",
       "      <th>max</th>\n",
       "      <td>399.000000</td>\n",
       "    </tr>\n",
       "  </tbody>\n",
       "</table>\n",
       "</div>"
      ],
      "text/plain": [
       "           length\n",
       "count   87.000000\n",
       "mean   272.781609\n",
       "std     66.955630\n",
       "min     79.000000\n",
       "25%    235.000000\n",
       "50%    275.000000\n",
       "75%    313.500000\n",
       "max    399.000000"
      ]
     },
     "execution_count": 17,
     "metadata": {},
     "output_type": "execute_result"
    }
   ],
   "source": [
    "df.describe()"
   ]
  },
  {
   "cell_type": "markdown",
   "metadata": {},
   "source": [
    "# 평가 데이터 분리"
   ]
  },
  {
   "cell_type": "code",
   "execution_count": 11,
   "metadata": {},
   "outputs": [],
   "source": [
    "import pandas as pd\n",
    "import re\n",
    "\n",
    "df = pd.read_csv(\"/opt/ml/input/data/review_summary_prototype_dataset_v0.2.csv\")\n",
    "df = df.sample(frac=1).reset_index(drop=True)\n",
    "valid = df.iloc[:5]\n",
    "train = df.iloc[5:]\n",
    "valid.to_csv(\"/opt/ml/input/data/review_summary_prototype_dataset_v0.2_valid.csv\")\n",
    "train.to_csv(\"/opt/ml/input/data/review_summary_prototype_dataset_v0.2_train.csv\")"
   ]
  },
  {
   "attachments": {},
   "cell_type": "markdown",
   "metadata": {},
   "source": [
    "# 추론"
   ]
  },
  {
   "cell_type": "code",
   "execution_count": 1,
   "metadata": {},
   "outputs": [
    {
     "name": "stderr",
     "output_type": "stream",
     "text": [
      "/opt/conda/envs/mrc/lib/python3.8/site-packages/tqdm/auto.py:21: TqdmWarning: IProgress not found. Please update jupyter and ipywidgets. See https://ipywidgets.readthedocs.io/en/stable/user_install.html\n",
      "  from .autonotebook import tqdm as notebook_tqdm\n",
      "Loading checkpoint shards: 100%|██████████| 2/2 [00:08<00:00,  4.08s/it]\n",
      "Xformers is not installed correctly. If you want to use memorry_efficient_attention to accelerate training use the following command to install Xformers\n",
      "pip install xformers.\n"
     ]
    }
   ],
   "source": [
    "import torch\n",
    "from transformers import pipeline, AutoModelForCausalLM\n",
    "# MODEL = \"models/0_e5\" # 가장 결과 좋음\n",
    "# MODEL = \"models/koalpaca-ft-myFormat\"\n",
    "MODEL = \"models/koalpaca-ft\"\n",
    "# MODEL = \"models/0_noTag\"\n",
    "# MODEL = \"models/e10\"\n",
    "# MODEL = \"models/e5lr1/\"\n",
    "model = AutoModelForCausalLM.from_pretrained(\n",
    "    MODEL,\n",
    "    torch_dtype=torch.float16,\n",
    "    low_cpu_mem_usage=True,\n",
    ").to(device=f\"cuda\", non_blocking=True)\n",
    "model.eval()\n",
    "\n",
    "pipe = pipeline(\n",
    "    'text-generation', \n",
    "    model=model,\n",
    "    tokenizer=MODEL,\n",
    "    device=0\n",
    ")"
   ]
  },
  {
   "cell_type": "code",
   "execution_count": 2,
   "metadata": {},
   "outputs": [],
   "source": [
    "def ask(keyword, review, is_input_full=False):\n",
    "    text = ( # multi-line string\n",
    "        \"### 질문: 다음의 {keyword}에 대한 리뷰를 특성 세부설명 형식으로 요약하세요.\\n\\n\"\n",
    "        \"\" + review + \"\\n\\n\"\n",
    "        \"### 답변:\"\n",
    "    )\n",
    "    \n",
    "    ans = pipe(\n",
    "        text, \n",
    "        do_sample=True, \n",
    "        max_new_tokens=512,\n",
    "        temperature=0.7,\n",
    "        top_p=0.9,\n",
    "        return_full_text=False,\n",
    "        eos_token_id=2,\n",
    "    )\n",
    "    result = ans[0]['generated_text']\n",
    "    return result\n",
    "\n",
    "# def ask(keyword, review, is_input_full=False):\n",
    "#     ans = pipe(\n",
    "#         f\"### 명령어: 다음의 {keyword.strip()}에 대한 리뷰를 특성 세부설명 형식으로 요약하세요\\n\\n### 리뷰: {review}\\n\\n### 요약:\", \n",
    "#         do_sample=True, \n",
    "#         max_new_tokens=512,\n",
    "#         temperature=0.7,\n",
    "#         top_p=0.9,\n",
    "#         return_full_text=False,\n",
    "#         eos_token_id=2,\n",
    "#     )\n",
    "#     result = ans[0]['generated_text']\n",
    "#     return result"
   ]
  },
  {
   "cell_type": "code",
   "execution_count": 9,
   "metadata": {},
   "outputs": [],
   "source": [
    "test_data = [\n",
    "    (\"떡볶이\", \"일단 결론부터 말씀드리자면 이 떡볶이 진짜 맛있어요진짜 맛은 있는데 생각보다 양이 너무 적어서 ㅠㅠ 그게 좀 아쉽솔직히 혼자서도 충분히 다 먹을 수 있을 양이고요 그냥 딱 1인분인듯 ㅋㅋ 그래도 그나마 2봉지라 다행인건지 ㅠㅠ저는 사실 이 떡볶이만 벌써 4번째 재구매고요2봉지가 한세트 구성인데 저는 한 번 구매할때마다 2세트씩 구매하고 있답니다그만큼 맛에서는 충분히 만족하고 있는 떡볶이이긴 하나 가격대비 양이 너무 적은 건 좀 섭섭함 ㅋㅋㅋ그리고 저는 사실 떡보다는 오뎅을 더 좋아하는 편이라오뎅을 따로 더 넣어서 조리하는 편입니다집에 양배추랑 대파도 있으시면 왠만하면 넣으세용 저는 오뎅 양배추 대파 삶은계란까지 꼭꼭 넣어서 먹거든요 그렇게 먹으니 진짜 맛있더라고요 ㅋㅋㅋ아 그리고 사리종류로 라면사리나 당면사리를 살짝 넣어드셔도 좋아요저는 라면사리보다는 당면사리를 좀 더 좋아하긴 합니다 키키키키아무튼간에 이 떡볶이 안드셔보신 분이 계시다면강력하게 추천드립니다 ㅋㅋㅋ 꼭꼭 드셔보세용\"),\n",
    "    (\"떡볶이\", \"간단한 간식거리를 찾다 보니 두께라는 이름에 한 떡볶이집이 생각나서 홀린 듯이 구입하게 되었네요구성은 여느 간편조리 떡볶이와 비슷한데 왠지 모르게 별거 아닌데도 맘에 드는 모양새였어요 만드는 법도 간단하고 만들고 나서의 모습도 완벽한 이상적인 떡볶이의 형태여서 맛있게 잘 먹었습니다\"),\n",
    "    (\"떡볶이\", \"떡볶이 처돌이라 여러종류 시켜먹어보는데 무난한 맛입니다 단맛이 살짝 아쉬워서 양파나 양배추 넣어서 먹으면 좋을 것 같습니다 저같은 경우는 치즈한 장 넣어서 떡볶이랑 먹으니 정말 맛있었습니다 떡볶이 떡이 길어서 뭔가 먹는 재미가 있었습니다\"),\n",
    "    (\"떡볶이\", \"아무리 생각해도 이상해요떡볶이는 왜 먹어도 먹어도 질리지 않을까요모든 떡볶이를 다 좋아하는데 요즘은 이 상품에 꽂혔어요미미네 떡볶이미미네 한창 유행할 때 가게에서 먹어보고다시 먹으러 찾아가기는 귀찮아서 혹시나하고 쿠팡에서 검색해봤어요역시나 로켓 프레시 배송이 되서 급 기분 좋아지더라고요다음 날 새벽 배송 바로 받고 점심으로 보글보글 끓여 먹어봤어요음 역시나 조리법도 너무 간단하고 맛도 평타 이상이예요아무래도 떡이 냉동되서 끓이면 갈라지고 냉장떡보다는 좀 풀어진다고해야하나 그렇기는 합니다그래도 떡볶이는 양념 맛이 중요하니까 아주 먹을만하고 만족스러워요다른거보다 국물 떡볶이라서 떠먹는 국물이 맛이 좋아서 합격 그리고 어묵이 포함이 되서 더 괜찮은 거 같네요추천합니다\"),\n",
    "    (\"치킨\", \"평소에 가라아게 치킨좋아해서 보이면 사는편입니다물가올라서 1k 비싼편인데 착한가격이라 사봄 500g 23인분다리살 부드러움국내산이 아니라아쉽지만브라질산잡내없이 맛있음 에어프라이 180 15분 기본으로 굽고 좀더 바싹함을 원함 5분정도 더 구움되요기본만 구움 좀 물컹하더라구요 갠적으로 바싹한 느낌을좋아해서요 기본적으로 간이 되어있어서 맛은 좋아요양은 한봉다리 다 뜯은거구요 엄청 많지는않지만 가격대비는괜찮은듯 해요더 짭짭한거 좋아하시는분들은 소스 찍어드셔도좋을것 같아요\"),\n",
    "    (\"치킨\", \"유명한 애 보다 고기 함량도 10프로 높아요덜 짜고 육즙도 한가득이엇어요에어프라이어 14분정도 돌렸더니바삭하고 맛잇어요전에 주문해서 먹고 남았던 치킨소스남은거랑 머스타드 소스 같이 하니굳 이네요 마지막에 파슬리를솔솔 뿌려 주었더니 더 보기 좋네요맥주 안주 겸 아이 간식 겸 주문 했는데 너무 만족스럽습니다이틀만에 다먹어버렸어요 ㅠㅠㅠㅠ완전 추천드립니다\"),\n",
    "    (\"치킨\", \"우연히 배달음식 사이드로 먹어본 가라아게가너무 맛있어서 찾고 있는데 이건 아니었어요ㅠ사세 다른 시리즈 가라아게도 도전해보려고요\"),\n",
    "    (\"치킨\", \"내돈내산 구매 후기 입니다주관적일 수 밖에 없지만 최대한 객관적으로 적어보겠습니다상품명 사세 치킨 가라아게 냉동 500g 2개구매일시 23 05 12도착일시 23 05 13재구매 의사 있음사세 핫윙인가 여튼 그 닭날개가 유명한데다른 제품들도 다 기본 이상으로 맛있어요 그래도 이 가라아게는 처음 먹어보는데저는 일단 가라아게를 무척이나 좋아하는 편이 가라아게 맛이 좋은 편이에요다른 싸구려 가라아게 보다 훨씬 고급진 느낌겉은 바삭하면서속이 좀 부드러운 것보다 쫀득한 느낌 기름에 튀겨도 맛있고그냥 기름 살짝 버무려서 에어프라이에 돌려도아주 맛이 좋습니다 만족 조금이라도 도움이 되셨다면 아래 도움이 돼요버튼 한번 눌러 주시면 감사하겠습니다\")   \n",
    "]"
   ]
  },
  {
   "cell_type": "code",
   "execution_count": 10,
   "metadata": {},
   "outputs": [],
   "source": [
    "import re\n",
    "\n",
    "# 특수문자, 초성어 제거\n",
    "def clean_text(sent):\n",
    "    sent_clean = re.sub(\"[^가-힣ㄱ-ㅎㅏ-ㅣ\\\\s0-9a-zA-Z]\", \" \", sent)\n",
    "    sent_clean = re.sub(\"[ㄱ-ㅎㅏ-ㅣ]+\", \"\", sent_clean)\n",
    "    sent_clean = \" \".join(sent_clean.split())\n",
    "    return sent_clean"
   ]
  },
  {
   "cell_type": "code",
   "execution_count": 11,
   "metadata": {},
   "outputs": [
    {
     "name": "stderr",
     "output_type": "stream",
     "text": [
      "/opt/conda/envs/mrc/lib/python3.8/site-packages/transformers/generation/utils.py:1255: UserWarning: You have modified the pretrained model configuration to control generation. This is a deprecated strategy to control generation and will be removed soon, in a future version. Please use a generation configuration file (see https://huggingface.co/docs/transformers/main_classes/text_generation)\n",
      "  warnings.warn(\n",
      "Setting `pad_token_id` to `eos_token_id`:2 for open-end generation.\n",
      "Setting `pad_token_id` to `eos_token_id`:2 for open-end generation.\n",
      "Setting `pad_token_id` to `eos_token_id`:2 for open-end generation.\n",
      "Setting `pad_token_id` to `eos_token_id`:2 for open-end generation.\n",
      "Setting `pad_token_id` to `eos_token_id`:2 for open-end generation.\n",
      "Setting `pad_token_id` to `eos_token_id`:2 for open-end generation.\n",
      "Setting `pad_token_id` to `eos_token_id`:2 for open-end generation.\n",
      "Setting `pad_token_id` to `eos_token_id`:2 for open-end generation.\n"
     ]
    },
    {
     "name": "stdout",
     "output_type": "stream",
     "text": [
      "file: test_result/koalpaca-ft.json\n"
     ]
    }
   ],
   "source": [
    "import json\n",
    "import os\n",
    "\n",
    "summary = []\n",
    "for keyword, review in test_data:\n",
    "    clean_review = clean_text(review)\n",
    "    result = ask(keyword, clean_review)\n",
    "    item = {\"review\": clean_review, \"summary\": result}\n",
    "    summary.append(item)\n",
    "\n",
    "name = MODEL.strip().split(\".\")[0].split(\"/\")[-1]\n",
    "path = \"test_result/\"+name + \".json\"\n",
    "\n",
    "os.makedirs(\"test_result\", exist_ok=True)\n",
    "\n",
    "with open(path, \"w\", encoding=\"utf-8\") as f:\n",
    "    json.dump(summary, f, ensure_ascii=False)\n",
    "\n",
    "print(\"file:\", path)\n",
    "\n",
    "# for item in summary:\n",
    "#     print(\"-\"*5, \"review\", \"-\"*5)\n",
    "#     print(item[\"review\"])\n",
    "#     print(\"-\"*5, \"summary\", \"-\"*5)\n",
    "#     print(item[\"summary\"])  \n"
   ]
  },
  {
   "cell_type": "markdown",
   "metadata": {},
   "source": [
    "# 평가"
   ]
  },
  {
   "cell_type": "code",
   "execution_count": 23,
   "metadata": {},
   "outputs": [],
   "source": [
    "import evaluate\n",
    "rouge = evaluate.load(\"rouge\")"
   ]
  },
  {
   "cell_type": "code",
   "execution_count": 24,
   "metadata": {},
   "outputs": [],
   "source": [
    "answer = [\n",
    "    \"<가격> 착한가격 <재료> 다리살 부드러움 <원산지> 브라질산 <맛> 잡내없이 맛있음 간이 되어있어서 맛은 좋아요 <조리> 에어프라이 <양> 엄청 많지는않지만 가격대비는괜찮은듯\",\n",
    "    \"<맛> 덜 짜고 육즙도 한가득 <재료> 유명한 애 보다 고기 함량도 10프로 높아요 <조리> 에어프라이어 <소스> 킨소스남은거 머스타드 소스 <선호> 맥주 안주 아이 간식\",\n",
    "    \"<맛> 이건 아니었어요\",\n",
    "    \"<맛> 가라아게 맛이 좋은 편 훨씬 고급진 느낌 <식감> 겉은 바삭하면서속이 좀 부드러운 것보다 쫀득한 느낌 <조리> 기름에 튀겨 기름 살짝 버무려서 에어프라이에 돌려\"\n",
    "]"
   ]
  },
  {
   "cell_type": "code",
   "execution_count": 25,
   "metadata": {},
   "outputs": [
    {
     "name": "stdout",
     "output_type": "stream",
     "text": [
      "['<가격> 착한가격 <재료> 다리살 부드러움 <원산지> 브라질산 <맛> 잡내없이 맛있음 간이 되어있어서 맛은 좋아요 <조리> 에어프라이 <양> 엄청 많지는않지만 가격대비는괜찮은듯', '<맛> 덜 짜고 육즙도 한가득 <식감> 바삭하고 맛잇어요 <재료> 유명한 애 보다 고기 함량도 10프로 높아요 <양> 에어프라이어 14분정도 돌렸더니 <조리> 바삭하고 맛잇어요 <소스> 남은거랑 머스타드 소스', '<맛> 짭짤하고 바삭바삭 <식감> 튀김옷이 두껍지 않아 얇아 <재료> 닭다리살 <조리> 에어프라이기 <양> 양도 많아 <가격> 가성비 좋은', '<맛> 기본 이상으로 맛있다 <재료> 닭날개가 유명한데 <조리> 에어프라이 <식감> 겉은 바삭하면서 속은 쫀득한 느낌 <재료> 가라아게를 무척이나 좋아하는 편']\n"
     ]
    }
   ],
   "source": [
    "import json\n",
    "with open(\"test_result/0_e5.json\", \"r\") as f:\n",
    "    preds = json.load(f)\n",
    "preds = [p[\"summary\"].strip() for p in preds[-4:]]\n",
    "print(preds)"
   ]
  },
  {
   "cell_type": "code",
   "execution_count": 6,
   "metadata": {},
   "outputs": [],
   "source": [
    "from transformers import AutoTokenizer\n",
    "tokenizer = AutoTokenizer.from_pretrained(\"models/0_e5/\")"
   ]
  },
  {
   "cell_type": "code",
   "execution_count": 17,
   "metadata": {},
   "outputs": [
    {
     "name": "stdout",
     "output_type": "stream",
     "text": [
      "{'rouge1': [1.0, 0.736842105263158, 0.1111111111111111, 0.5454545454545455],\n",
      " 'rouge2': [1.0, 0.6428571428571428, 0.07692307692307691, 0.43298969072164945],\n",
      " 'rougeL': [1.0, 0.6842105263157895, 0.1111111111111111, 0.3838383838383838],\n",
      " 'rougeLsum': [1.0, 0.6842105263157895, 0.1111111111111111, 0.3838383838383838]}\n",
      "{'rouge1': 0.5983519404572036,\n",
      " 'rouge2': 0.5381924776254673,\n",
      " 'rougeL': 0.544790005316321,\n",
      " 'rougeLsum': 0.544790005316321}\n"
     ]
    }
   ],
   "source": [
    "from pprint import pprint\n",
    "result = rouge.compute(predictions=preds, \n",
    "              references=answer,      \n",
    "              tokenizer=tokenizer.tokenize,\n",
    "              use_aggregator=False)\n",
    "result_agg = rouge.compute(predictions=preds, \n",
    "              references=answer,      \n",
    "              tokenizer=tokenizer.tokenize,\n",
    "              use_aggregator=True) # default\n",
    "pprint(result)\n",
    "pprint(result_agg)"
   ]
  },
  {
   "cell_type": "markdown",
   "metadata": {},
   "source": [
    "# 모델 허깅페이스 업로드\n",
    "\n",
    "Token is required (write-access action) but no token found. You need to provide a token or be logged in to Hugging Face with `huggingface-cli login` or `huggingface_hub.login`. See https://huggingface.co/settings/tokens."
   ]
  },
  {
   "cell_type": "code",
   "execution_count": 4,
   "metadata": {},
   "outputs": [
    {
     "data": {
      "application/vnd.jupyter.widget-view+json": {
       "model_id": "440e7376676d4a10bfda2a508219ef78",
       "version_major": 2,
       "version_minor": 0
      },
      "text/plain": [
       "Loading checkpoint shards:   0%|          | 0/2 [00:00<?, ?it/s]"
      ]
     },
     "metadata": {},
     "output_type": "display_data"
    },
    {
     "data": {
      "application/vnd.jupyter.widget-view+json": {
       "model_id": "5ac0576933014703a4d5e0b734557665",
       "version_major": 2,
       "version_minor": 0
      },
      "text/plain": [
       "pytorch_model-00001-of-00002.bin:   0%|          | 0.00/10.0G [00:00<?, ?B/s]"
      ]
     },
     "metadata": {},
     "output_type": "display_data"
    },
    {
     "data": {
      "application/vnd.jupyter.widget-view+json": {
       "model_id": "7e9f8e3587f5463286c36213a581fd2f",
       "version_major": 2,
       "version_minor": 0
      },
      "text/plain": [
       "Upload 2 LFS files:   0%|          | 0/2 [00:00<?, ?it/s]"
      ]
     },
     "metadata": {},
     "output_type": "display_data"
    },
    {
     "data": {
      "application/vnd.jupyter.widget-view+json": {
       "model_id": "4a9cb2290fab4cfc94848b790afca9d5",
       "version_major": 2,
       "version_minor": 0
      },
      "text/plain": [
       "pytorch_model-00002-of-00002.bin:   0%|          | 0.00/1.87G [00:00<?, ?B/s]"
      ]
     },
     "metadata": {},
     "output_type": "display_data"
    }
   ],
   "source": [
    "from transformers import AutoModelForCausalLM, AutoTokenizer\n",
    "import torch\n",
    "\n",
    "MODEL = \"/opt/ml/input/KoAlpaca-finetune/train_v1.1b/models/v0.2\"\n",
    "REPO = \"boostcamp-5th-nlp07/koalpaca-polyglot-5.8b-summary-v0.2\"\n",
    "\n",
    "tokenizer = AutoTokenizer.from_pretrained(MODEL)\n",
    "\n",
    "model = AutoModelForCausalLM.from_pretrained(\n",
    "    MODEL,\n",
    "    torch_dtype=torch.float16,\n",
    "    low_cpu_mem_usage=True,\n",
    ").to(device=f\"cuda\", non_blocking=True)\n",
    "\n",
    "model.push_to_hub(REPO)\n",
    "tokenizer.push_to_hub(REPO)"
   ]
  }
 ],
 "metadata": {
  "kernelspec": {
   "display_name": "mrc",
   "language": "python",
   "name": "python3"
  },
  "language_info": {
   "codemirror_mode": {
    "name": "ipython",
    "version": 3
   },
   "file_extension": ".py",
   "mimetype": "text/x-python",
   "name": "python",
   "nbconvert_exporter": "python",
   "pygments_lexer": "ipython3",
   "version": "3.8.17"
  },
  "orig_nbformat": 4
 },
 "nbformat": 4,
 "nbformat_minor": 2
}
