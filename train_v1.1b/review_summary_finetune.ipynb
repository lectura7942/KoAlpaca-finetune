{
 "cells": [
  {
   "attachments": {},
   "cell_type": "markdown",
   "metadata": {},
   "source": [
    "# polygot fine tuning 데이터셋 제작\n",
    "\n",
    "데이터 예시:\n",
    "\n",
    "{\"text\": \"### 명령어: 다음의 떡볶이에 대한 리뷰를 특성 세부설명 형식으로 요약하세요\\n\\n### 리뷰: 추억의 국민학교 떡볶이 오리지널 냉동 600g 2개 후기 배송날짜 23년 04월 24일 유통기한 24년 03월 20일주문하여 로켓프레시 배송으로 신선하게 배송되었어요 간편한 냉동보관 조리 제품 올인원 다 때려넣으면 떡볶이 완성은근 양이 많네요 1패키지에 2 3인분 용량입니다 600g1팩당 1165칼로리저는 떡볶이 밀떡파라서 만족하며 먹었네요조리방법대로 10분 정도 떡을 찬물에 담군 후에 손으로 떼어주었어요 보통 같으면 당면이나 파 양파등 다양한 부재료를 손질하여 해먹었을텐데배가 고파서 아무것도 준비 안하고 먹었네요냉동보관 제품으로 아무때나 꺼내 먹을 수 있는게 가장 큰 장점입니다배송 감사합니다 많이 파세요저도 상품을 구매할때 리뷰로 도움을 많이 받은만큼솔직하게 적어보았습니다도움이 되었다면 도움이 돼요 꾹 눌러주시면 감사하겠습니다\\n\\n### 요약: <양> 1패키지에 2 3인분 용량 <양> 1팩당 1165 칼로리 <재료> 밀떡 <조리> 10분 정도 떡을 찬물에 담군 후에 손으로 떼어주었어요 <보관> 냉동보관<|endoftext|>\"}"
   ]
  },
  {
   "cell_type": "code",
   "execution_count": 57,
   "metadata": {},
   "outputs": [
    {
     "data": {
      "text/html": [
       "<div>\n",
       "<style scoped>\n",
       "    .dataframe tbody tr th:only-of-type {\n",
       "        vertical-align: middle;\n",
       "    }\n",
       "\n",
       "    .dataframe tbody tr th {\n",
       "        vertical-align: top;\n",
       "    }\n",
       "\n",
       "    .dataframe thead th {\n",
       "        text-align: right;\n",
       "    }\n",
       "</style>\n",
       "<table border=\"1\" class=\"dataframe\">\n",
       "  <thead>\n",
       "    <tr style=\"text-align: right;\">\n",
       "      <th></th>\n",
       "      <th>search_name</th>\n",
       "      <th>instruction</th>\n",
       "      <th>input</th>\n",
       "      <th>output</th>\n",
       "    </tr>\n",
       "    <tr>\n",
       "      <th>id</th>\n",
       "      <th></th>\n",
       "      <th></th>\n",
       "      <th></th>\n",
       "      <th></th>\n",
       "    </tr>\n",
       "  </thead>\n",
       "  <tbody>\n",
       "    <tr>\n",
       "      <th>707</th>\n",
       "      <td>떡볶이</td>\n",
       "      <td>다음의 떡볶이에 대한 리뷰를 &lt;특성&gt; 세부설명 형식으로 요약하세요</td>\n",
       "      <td>추억의 국민학교 떡볶이 오리지널 냉동 600g 2개 후기 배송날짜 23년 04월 2...</td>\n",
       "      <td>&lt;양&gt; 1패키지에 2 3인분 용량 &lt;양&gt; 1팩당 1165 칼로리 &lt;재료&gt; 밀떡 &lt;조...</td>\n",
       "    </tr>\n",
       "    <tr>\n",
       "      <th>708</th>\n",
       "      <td>떡볶이</td>\n",
       "      <td>다음의 떡볶이에 대한 리뷰를 &lt;특성&gt; 세부설명 형식으로 요약하세요</td>\n",
       "      <td>맛 가성비 재구매의사 냉동 떡볶이중 최고입니다떡복이 땡길때 바로 해먹을수 있어서 좋...</td>\n",
       "      <td>&lt;양&gt; 세 식구 한끼 식사 &lt;조리&gt; 재료들을 한꺼번에 끓이면 돼서 조리가 편해요 &lt;...</td>\n",
       "    </tr>\n",
       "  </tbody>\n",
       "</table>\n",
       "</div>"
      ],
      "text/plain": [
       "    search_name                           instruction  \\\n",
       "id                                                      \n",
       "707         떡볶이  다음의 떡볶이에 대한 리뷰를 <특성> 세부설명 형식으로 요약하세요   \n",
       "708         떡볶이  다음의 떡볶이에 대한 리뷰를 <특성> 세부설명 형식으로 요약하세요   \n",
       "\n",
       "                                                 input  \\\n",
       "id                                                       \n",
       "707  추억의 국민학교 떡볶이 오리지널 냉동 600g 2개 후기 배송날짜 23년 04월 2...   \n",
       "708  맛 가성비 재구매의사 냉동 떡볶이중 최고입니다떡복이 땡길때 바로 해먹을수 있어서 좋...   \n",
       "\n",
       "                                                output  \n",
       "id                                                      \n",
       "707  <양> 1패키지에 2 3인분 용량 <양> 1팩당 1165 칼로리 <재료> 밀떡 <조...  \n",
       "708  <양> 세 식구 한끼 식사 <조리> 재료들을 한꺼번에 끓이면 돼서 조리가 편해요 <...  "
      ]
     },
     "metadata": {},
     "output_type": "display_data"
    },
    {
     "name": "stdout",
     "output_type": "stream",
     "text": [
      "추억의 국민학교 떡볶이 오리지널 냉동 600g 2개 후기 배송날짜 23년 04월 24일 유통기한 24년 03월 20일주문하여 로켓프레시 배송으로 신선하게 배송되었어요 간편한 냉동보관 조리 제품 올인원 다 때려넣으면 떡볶이 완성은근 양이 많네요 1패키지에 2 3인분 용량입니다 600g1팩당 1165칼로리저는 떡볶이 밀떡파라서 만족하며 먹었네요조리방법대로 10분 정도 떡을 찬물에 담군 후에 손으로 떼어주었어요 보통 같으면 당면이나 파 양파등 다양한 부재료를 손질하여 해먹었을텐데배가 고파서 아무것도 준비 안하고 먹었네요냉동보관 제품으로 아무때나 꺼내 먹을 수 있는게 가장 큰 장점입니다배송 감사합니다 많이 파세요저도 상품을 구매할때 리뷰로 도움을 많이 받은만큼솔직하게 적어보았습니다도움이 되었다면 도움이 돼요 꾹 눌러주시면 감사하겠습니다\n"
     ]
    }
   ],
   "source": [
    "import pandas as pd\n",
    "import re\n",
    "\n",
    "data = pd.read_csv(\"../../data/review_summary_prototype_dataset.csv\")\n",
    "data.set_index(\"id\", inplace=True)\n",
    "# data.iloc: 위치로 접근\n",
    "# data.loc: id로 접근\n",
    "\n",
    "# 특수문자, 초성어 제거\n",
    "def clean_text(sent):\n",
    "    sent_clean = re.sub(\"[^가-힣ㄱ-ㅎㅏ-ㅣ\\\\s0-9a-zA-Z]\", \" \", sent)\n",
    "    sent_clean = re.sub(\"[ㄱ-ㅎㅏ-ㅣ]+\", \"\", sent_clean)\n",
    "    sent_clean = \" \".join(sent_clean.split())\n",
    "    return sent_clean\n",
    "\n",
    "data[\"input\"] = data[\"input\"].apply(clean_text)\n",
    "\n",
    "display(data.head(2))\n",
    "print(data.iloc[0][\"input\"])"
   ]
  },
  {
   "attachments": {},
   "cell_type": "markdown",
   "metadata": {},
   "source": [
    "## (성능 안 좋음) Tag 삭제"
   ]
  },
  {
   "cell_type": "code",
   "execution_count": 43,
   "metadata": {},
   "outputs": [
    {
     "name": "stdout",
     "output_type": "stream",
     "text": [
      "다음의 떡볶이에 대한 리뷰를 요약하세요.\n",
      "\n",
      "추억의 국민학교 떡볶이 오리지널 냉동 600g 2개 후기 배송날짜 23년 04월 24일 유통기한 24년 03월 20일주문하여 로켓프레시 배송으로 신선하게 배송되었어요 간편한 냉동보관 조리 제품 올인원 다 때려넣으면 떡볶이 완성은근 양이 많네요 1패키지에 2 3인분 용량입니다 600g1팩당 1165칼로리저는 떡볶이 밀떡파라서 만족하며 먹었네요조리방법대로 10분 정도 떡을 찬물에 담군 후에 손으로 떼어주었어요 보통 같으면 당면이나 파 양파등 다양한 부재료를 손질하여 해먹었을텐데배가 고파서 아무것도 준비 안하고 먹었네요냉동보관 제품으로 아무때나 꺼내 먹을 수 있는게 가장 큰 장점입니다배송 감사합니다 많이 파세요저도 상품을 구매할때 리뷰로 도움을 많이 받은만큼솔직하게 적어보았습니다도움이 되었다면 도움이 돼요 꾹 눌러주시면 감사하겠습니다\n",
      "\n",
      "1패키지에 2 3인분 용량. 1팩당 1165 칼로리. 밀떡. 10분 정도 떡을 찬물에 담군 후에 손으로 떼어주었어요. 냉동보관\n",
      "\n"
     ]
    }
   ],
   "source": [
    "# import re\n",
    "\n",
    "# def remove_tag(x):\n",
    "#     xlist = [i.strip() for i in re.split(\"<[^>]*>\", x) if len(i)>0]\n",
    "#     return \". \".join(xlist)\n",
    "\n",
    "# data[\"output\"] = data[\"output\"].apply(remove_tag)\n",
    "# data[\"instruction\"] = data[\"instruction\"].apply(lambda x: re.sub(\" <특성> 세부설명 형식으로\", \"\", x) + \".\")\n",
    "\n",
    "# print(data.iloc[0][\"instruction\"], end=\"\\n\\n\")\n",
    "# print(data.iloc[0][\"input\"], end=\"\\n\\n\")\n",
    "# print(data.iloc[0][\"output\"], end=\"\\n\\n\")"
   ]
  },
  {
   "attachments": {},
   "cell_type": "markdown",
   "metadata": {},
   "source": [
    "## 프롬프트 다른 버젼\n",
    "\n",
    "```\n",
    "### 상품: search_name + 상품명\n",
    "\n",
    "### 리뷰:\n",
    "\n",
    "### 요약:\n",
    "```"
   ]
  },
  {
   "cell_type": "code",
   "execution_count": null,
   "metadata": {},
   "outputs": [],
   "source": [
    "# 0_e5: instruction에 <> 없음"
   ]
  },
  {
   "attachments": {},
   "cell_type": "markdown",
   "metadata": {},
   "source": [
    "## 입력 데이터 제작"
   ]
  },
  {
   "cell_type": "code",
   "execution_count": 44,
   "metadata": {},
   "outputs": [
    {
     "name": "stdout",
     "output_type": "stream",
     "text": [
      "### 명령어: 다음의 떡볶이에 대한 리뷰를 요약하세요.\n",
      "\n",
      "### 리뷰: 추억의 국민학교 떡볶이 오리지널 냉동 600g 2개 후기 배송날짜 23년 04월 24일 유통기한 24년 03월 20일주문하여 로켓프레시 배송으로 신선하게 배송되었어요 간편한 냉동보관 조리 제품 올인원 다 때려넣으면 떡볶이 완성은근 양이 많네요 1패키지에 2 3인분 용량입니다 600g1팩당 1165칼로리저는 떡볶이 밀떡파라서 만족하며 먹었네요조리방법대로 10분 정도 떡을 찬물에 담군 후에 손으로 떼어주었어요 보통 같으면 당면이나 파 양파등 다양한 부재료를 손질하여 해먹었을텐데배가 고파서 아무것도 준비 안하고 먹었네요냉동보관 제품으로 아무때나 꺼내 먹을 수 있는게 가장 큰 장점입니다배송 감사합니다 많이 파세요저도 상품을 구매할때 리뷰로 도움을 많이 받은만큼솔직하게 적어보았습니다도움이 되었다면 도움이 돼요 꾹 눌러주시면 감사하겠습니다\n",
      "\n",
      "### 요약: 1패키지에 2 3인분 용량. 1팩당 1165 칼로리. 밀떡. 10분 정도 떡을 찬물에 담군 후에 손으로 떼어주었어요. 냉동보관<|endoftext|>\n"
     ]
    }
   ],
   "source": [
    "def build_text(item):\n",
    "    text = ( # multi-line string\n",
    "        \"### 명령어: \" + item.instruction.strip() + \"\\n\\n\"\n",
    "        \"### 리뷰: \" + clean_text(item.input.strip()) + \"\\n\\n\"\n",
    "        \"### 요약: \" + item.output.strip() + \"<|endoftext|>\"\n",
    "    )\n",
    "    return text\n",
    "\n",
    "print(build_text(data.iloc[0]))"
   ]
  },
  {
   "cell_type": "code",
   "execution_count": 45,
   "metadata": {},
   "outputs": [
    {
     "name": "stdout",
     "output_type": "stream",
     "text": [
      "<class 'dict'> {'text': '### 명령어: 다음의 떡볶이에 대한 리뷰를 요약하세요.\\n\\n### 리뷰: 추억의 국민학교 떡볶이 오리지널 냉동 600g 2개 후기 배송날짜 23년 04월 24일 유통기한 24년 03월 20일주문하여 로켓프레시 배송으로 신선하게 배송되었어요 간편한 냉동보관 조리 제품 올인원 다 때려넣으면 떡볶이 완성은근 양이 많네요 1패키지에 2 3인분 용량입니다 600g1팩당 1165칼로리저는 떡볶이 밀떡파라서 만족하며 먹었네요조리방법대로 10분 정도 떡을 찬물에 담군 후에 손으로 떼어주었어요 보통 같으면 당면이나 파 양파등 다양한 부재료를 손질하여 해먹었을텐데배가 고파서 아무것도 준비 안하고 먹었네요냉동보관 제품으로 아무때나 꺼내 먹을 수 있는게 가장 큰 장점입니다배송 감사합니다 많이 파세요저도 상품을 구매할때 리뷰로 도움을 많이 받은만큼솔직하게 적어보았습니다도움이 되었다면 도움이 돼요 꾹 눌러주시면 감사하겠습니다\\n\\n### 요약: 1패키지에 2 3인분 용량. 1팩당 1165 칼로리. 밀떡. 10분 정도 떡을 찬물에 담군 후에 손으로 떼어주었어요. 냉동보관<|endoftext|>'}\n"
     ]
    }
   ],
   "source": [
    "data_list = []\n",
    "for item in data.itertuples():\n",
    "    text = build_text(item)\n",
    "    item_dict = {\n",
    "        \"text\": text\n",
    "    }\n",
    "    data_list.append(item_dict)\n",
    "print(type(data_list[0]), data_list[0])"
   ]
  },
  {
   "cell_type": "code",
   "execution_count": 46,
   "metadata": {},
   "outputs": [],
   "source": [
    "import json\n",
    "with open(\"../../data/review_summary_prototype_textonly.json\", \"w\", encoding=\"utf-8\") as f:\n",
    "    json.dump(data_list, f, ensure_ascii=False)"
   ]
  },
  {
   "attachments": {},
   "cell_type": "markdown",
   "metadata": {},
   "source": [
    "## 데이터셋 잘 불러오는지 확인"
   ]
  },
  {
   "cell_type": "code",
   "execution_count": 86,
   "metadata": {},
   "outputs": [
    {
     "name": "stdout",
     "output_type": "stream",
     "text": [
      "Downloading and preparing dataset json/default to /opt/ml/.cache/huggingface/datasets/json/default-828e4828bcc2f751/0.0.0/e347ab1c932092252e717ff3f949105a4dd28b27e842dd53157d2f72e276c2e4...\n"
     ]
    },
    {
     "name": "stderr",
     "output_type": "stream",
     "text": [
      "Downloading data files: 100%|██████████| 1/1 [00:00<00:00, 5391.14it/s]\n",
      "Extracting data files: 100%|██████████| 1/1 [00:00<00:00, 796.19it/s]\n",
      "                                                        \r"
     ]
    },
    {
     "name": "stdout",
     "output_type": "stream",
     "text": [
      "Dataset json downloaded and prepared to /opt/ml/.cache/huggingface/datasets/json/default-828e4828bcc2f751/0.0.0/e347ab1c932092252e717ff3f949105a4dd28b27e842dd53157d2f72e276c2e4. Subsequent calls will reuse this data.\n"
     ]
    },
    {
     "name": "stderr",
     "output_type": "stream",
     "text": [
      "100%|██████████| 1/1 [00:00<00:00, 659.17it/s]\n"
     ]
    }
   ],
   "source": [
    "from datasets import load_dataset\n",
    "dataset = load_dataset(\n",
    "            \"json\",\n",
    "            data_files=\"../data/review_summary_prototype_textonly.json\",\n",
    "            # cache_dir=model_args.cache_dir,\n",
    "            # use_auth_token=True if model_args.use_auth_token else None,\n",
    "            # **dataset_args,\n",
    "        )"
   ]
  },
  {
   "cell_type": "code",
   "execution_count": 87,
   "metadata": {},
   "outputs": [
    {
     "name": "stdout",
     "output_type": "stream",
     "text": [
      "DatasetDict({\n",
      "    train: Dataset({\n",
      "        features: ['text'],\n",
      "        num_rows: 87\n",
      "    })\n",
      "})\n",
      "### 명령어: 다음의 떡볶이에 대한 리뷰를 특성 세부설명 형식으로 요약하세요\n",
      "\n",
      "### 리뷰: 추억의 국민학교 떡볶이 오리지널 냉동 600g 2개 후기 배송날짜 23년 04월 24일 유통기한 24년 03월 20일주문하여 로켓프레시 배송으로 신선하게 배송되었어요 간편한 냉동보관 조리 제품 올인원 다 때려넣으면 떡볶이 완성은근 양이 많네요 1패키지에 2 3인분 용량입니다 600g1팩당 1165칼로리저는 떡볶이 밀떡파라서 만족하며 먹었네요조리방법대로 10분 정도 떡을 찬물에 담군 후에 손으로 떼어주었어요 보통 같으면 당면이나 파 양파등 다양한 부재료를 손질하여 해먹었을텐데배가 고파서 아무것도 준비 안하고 먹었네요냉동보관 제품으로 아무때나 꺼내 먹을 수 있는게 가장 큰 장점입니다배송 감사합니다 많이 파세요저도 상품을 구매할때 리뷰로 도움을 많이 받은만큼솔직하게 적어보았습니다도움이 되었다면 도움이 돼요 꾹 눌러주시면 감사하겠습니다\n",
      "\n",
      "### 요약: <양> 1패키지에 2 3인분 용량 <양> 1팩당 1165 칼로리 <재료> 밀떡 <조리> 10분 정도 떡을 찬물에 담군 후에 손으로 떼어주었어요 <보관> 냉동보관<|endoftext|>\n"
     ]
    }
   ],
   "source": [
    "print(dataset)\n",
    "print(dataset[\"train\"][\"text\"][0])"
   ]
  },
  {
   "attachments": {},
   "cell_type": "markdown",
   "metadata": {},
   "source": [
    "# KoAlpaca 추가 fine tuning 데이터셋 제작\n",
    "\n",
    "KoAlpaca 예시:\n",
    "\n",
    "{\"text\":\"### 질문: 양파는 어떤 식물 부위인가요? 그리고 고구마는 뿌리인가요?\\n\\n### 답변: 양파는 잎이 아닌 식물의 줄기 부분입니다. 고구마는 식물의 뿌리 부분입니다. \\n\\n식물의 부위의 구분에 대해 궁금해하는 분이라면 분명 이 질문에 대한 답을 찾고 있을 것입니다. 양파는 잎이 아닌 줄기 부분입니다. 고구마는 다른 질문과 답변에서 언급된 것과 같이 뿌리 부분입니다. 따라서, 양파는 식물의 줄기 부분이 되고, 고구마는 식물의 뿌리 부분입니다.\\n\\n 덧붙이는 답변: 고구마 줄기도 볶아먹을 수 있나요? \\n\\n고구마 줄기도 식용으로 볶아먹을 수 있습니다. 하지만 줄기 뿐만 아니라, 잎, 씨, 뿌리까지 모든 부위가 식용으로 활용되기도 합니다. 다만, 한국에서는 일반적으로 뿌리 부분인 고구마를 주로 먹습니다.<|endoftext|>\"}"
   ]
  },
  {
   "cell_type": "code",
   "execution_count": 7,
   "metadata": {},
   "outputs": [
    {
     "data": {
      "text/html": [
       "<div>\n",
       "<style scoped>\n",
       "    .dataframe tbody tr th:only-of-type {\n",
       "        vertical-align: middle;\n",
       "    }\n",
       "\n",
       "    .dataframe tbody tr th {\n",
       "        vertical-align: top;\n",
       "    }\n",
       "\n",
       "    .dataframe thead th {\n",
       "        text-align: right;\n",
       "    }\n",
       "</style>\n",
       "<table border=\"1\" class=\"dataframe\">\n",
       "  <thead>\n",
       "    <tr style=\"text-align: right;\">\n",
       "      <th></th>\n",
       "      <th>search_name</th>\n",
       "      <th>instruction</th>\n",
       "      <th>input</th>\n",
       "      <th>output</th>\n",
       "    </tr>\n",
       "    <tr>\n",
       "      <th>id</th>\n",
       "      <th></th>\n",
       "      <th></th>\n",
       "      <th></th>\n",
       "      <th></th>\n",
       "    </tr>\n",
       "  </thead>\n",
       "  <tbody>\n",
       "    <tr>\n",
       "      <th>707</th>\n",
       "      <td>떡볶이</td>\n",
       "      <td>다음의 떡볶이에 대한 리뷰를 &lt;특성&gt; 세부설명 형식으로 요약하세요</td>\n",
       "      <td>추억의 국민학교 떡볶이 오리지널 냉동 600g 2개 후기 배송날짜 23년 04월 2...</td>\n",
       "      <td>&lt;양&gt; 1패키지에 2 3인분 용량 &lt;양&gt; 1팩당 1165 칼로리 &lt;재료&gt; 밀떡 &lt;조...</td>\n",
       "    </tr>\n",
       "    <tr>\n",
       "      <th>708</th>\n",
       "      <td>떡볶이</td>\n",
       "      <td>다음의 떡볶이에 대한 리뷰를 &lt;특성&gt; 세부설명 형식으로 요약하세요</td>\n",
       "      <td>맛 가성비 재구매의사 냉동 떡볶이중 최고입니다떡복이 땡길때 바로 해먹을수 있어서 좋...</td>\n",
       "      <td>&lt;양&gt; 세 식구 한끼 식사 &lt;조리&gt; 재료들을 한꺼번에 끓이면 돼서 조리가 편해요 &lt;...</td>\n",
       "    </tr>\n",
       "  </tbody>\n",
       "</table>\n",
       "</div>"
      ],
      "text/plain": [
       "    search_name                           instruction  \\\n",
       "id                                                      \n",
       "707         떡볶이  다음의 떡볶이에 대한 리뷰를 <특성> 세부설명 형식으로 요약하세요   \n",
       "708         떡볶이  다음의 떡볶이에 대한 리뷰를 <특성> 세부설명 형식으로 요약하세요   \n",
       "\n",
       "                                                 input  \\\n",
       "id                                                       \n",
       "707  추억의 국민학교 떡볶이 오리지널 냉동 600g 2개 후기 배송날짜 23년 04월 2...   \n",
       "708  맛 가성비 재구매의사 냉동 떡볶이중 최고입니다떡복이 땡길때 바로 해먹을수 있어서 좋...   \n",
       "\n",
       "                                                output  \n",
       "id                                                      \n",
       "707  <양> 1패키지에 2 3인분 용량 <양> 1팩당 1165 칼로리 <재료> 밀떡 <조...  \n",
       "708  <양> 세 식구 한끼 식사 <조리> 재료들을 한꺼번에 끓이면 돼서 조리가 편해요 <...  "
      ]
     },
     "execution_count": 7,
     "metadata": {},
     "output_type": "execute_result"
    }
   ],
   "source": [
    "import pandas as pd\n",
    "import re\n",
    "\n",
    "data = pd.read_csv(\"../../data/review_summary_prototype_dataset.csv\")\n",
    "data.set_index(\"id\", inplace=True)\n",
    "# data.iloc: 위치로 접근\n",
    "# data.loc: id로 접근\n",
    "\n",
    "# 특수문자, 초성어 제거\n",
    "def clean_text(sent)->str:\n",
    "    sent_clean = re.sub(\"[^가-힣ㄱ-ㅎㅏ-ㅣ\\\\s0-9a-zA-Z]\", \" \", sent)\n",
    "    sent_clean = re.sub(\"[ㄱ-ㅎㅏ-ㅣ]+\", \"\", sent_clean)\n",
    "    sent_clean = \" \".join(sent_clean.split())\n",
    "    return sent_clean\n",
    "\n",
    "data[\"input\"] = data[\"input\"].apply(clean_text)\n",
    "\n",
    "data.head(2)"
   ]
  },
  {
   "cell_type": "code",
   "execution_count": 8,
   "metadata": {},
   "outputs": [
    {
     "name": "stdout",
     "output_type": "stream",
     "text": [
      "### 질문: 다음의 떡볶이에 대한 리뷰를 특성 세부설명 형식으로 요약하세요.\n",
      "\n",
      "추억의 국민학교 떡볶이 오리지널 냉동 600g 2개 후기 배송날짜 23년 04월 24일 유통기한 24년 03월 20일주문하여 로켓프레시 배송으로 신선하게 배송되었어요 간편한 냉동보관 조리 제품 올인원 다 때려넣으면 떡볶이 완성은근 양이 많네요 1패키지에 2 3인분 용량입니다 600g1팩당 1165칼로리저는 떡볶이 밀떡파라서 만족하며 먹었네요조리방법대로 10분 정도 떡을 찬물에 담군 후에 손으로 떼어주었어요 보통 같으면 당면이나 파 양파등 다양한 부재료를 손질하여 해먹었을텐데배가 고파서 아무것도 준비 안하고 먹었네요냉동보관 제품으로 아무때나 꺼내 먹을 수 있는게 가장 큰 장점입니다배송 감사합니다 많이 파세요저도 상품을 구매할때 리뷰로 도움을 많이 받은만큼솔직하게 적어보았습니다도움이 되었다면 도움이 돼요 꾹 눌러주시면 감사하겠습니다\n",
      "\n",
      "### 답변: <양> 1패키지에 2 3인분 용량 <양> 1팩당 1165 칼로리 <재료> 밀떡 <조리> 10분 정도 떡을 찬물에 담군 후에 손으로 떼어주었어요 <보관> 냉동보관<|endoftext|>\n"
     ]
    }
   ],
   "source": [
    "def build_text(item):\n",
    "    question = re.sub(\"[<>]\", \"\",item.instruction.strip()) # 0_e5와 같은 형식\n",
    "    \n",
    "    text = ( # multi-line string\n",
    "        \"### 질문: \" + question + \".\\n\\n\"\n",
    "        \"\" + clean_text(item.input.strip()) + \"\\n\\n\"\n",
    "        \"### 답변: \" + item.output.strip() + \"<|endoftext|>\"\n",
    "    )\n",
    "    return text\n",
    "\n",
    "print(build_text(data.iloc[0]))"
   ]
  },
  {
   "cell_type": "code",
   "execution_count": 9,
   "metadata": {},
   "outputs": [
    {
     "name": "stdout",
     "output_type": "stream",
     "text": [
      "<class 'dict'> {'text': '### 질문: 다음의 떡볶이에 대한 리뷰를 특성 세부설명 형식으로 요약하세요.\\n\\n추억의 국민학교 떡볶이 오리지널 냉동 600g 2개 후기 배송날짜 23년 04월 24일 유통기한 24년 03월 20일주문하여 로켓프레시 배송으로 신선하게 배송되었어요 간편한 냉동보관 조리 제품 올인원 다 때려넣으면 떡볶이 완성은근 양이 많네요 1패키지에 2 3인분 용량입니다 600g1팩당 1165칼로리저는 떡볶이 밀떡파라서 만족하며 먹었네요조리방법대로 10분 정도 떡을 찬물에 담군 후에 손으로 떼어주었어요 보통 같으면 당면이나 파 양파등 다양한 부재료를 손질하여 해먹었을텐데배가 고파서 아무것도 준비 안하고 먹었네요냉동보관 제품으로 아무때나 꺼내 먹을 수 있는게 가장 큰 장점입니다배송 감사합니다 많이 파세요저도 상품을 구매할때 리뷰로 도움을 많이 받은만큼솔직하게 적어보았습니다도움이 되었다면 도움이 돼요 꾹 눌러주시면 감사하겠습니다\\n\\n### 답변: <양> 1패키지에 2 3인분 용량 <양> 1팩당 1165 칼로리 <재료> 밀떡 <조리> 10분 정도 떡을 찬물에 담군 후에 손으로 떼어주었어요 <보관> 냉동보관<|endoftext|>'}\n"
     ]
    }
   ],
   "source": [
    "data_list = []\n",
    "for item in data.itertuples():\n",
    "    text = build_text(item)\n",
    "    item_dict = {\n",
    "        \"text\": text\n",
    "    }\n",
    "    data_list.append(item_dict)\n",
    "print(type(data_list[0]), data_list[0])"
   ]
  },
  {
   "cell_type": "code",
   "execution_count": 10,
   "metadata": {},
   "outputs": [
    {
     "ename": "",
     "evalue": "",
     "output_type": "error",
     "traceback": [
      "\u001b[1;31mThe Kernel crashed while executing code in the the current cell or a previous cell. Please review the code in the cell(s) to identify a possible cause of the failure. Click <a href='https://aka.ms/vscodeJupyterKernelCrash'>here</a> for more info. View Jupyter <a href='command:jupyter.viewOutput'>log</a> for further details."
     ]
    }
   ],
   "source": [
    "import json\n",
    "with open(\"../../data/review_summary_prototype_textonly_koalpaca.json\", \"w\", encoding=\"utf-8\") as f:\n",
    "    json.dump(data_list, f, ensure_ascii=False)"
   ]
  },
  {
   "attachments": {},
   "cell_type": "markdown",
   "metadata": {},
   "source": [
    "# 데이터 토큰 개수 확인"
   ]
  },
  {
   "cell_type": "code",
   "execution_count": 6,
   "metadata": {},
   "outputs": [],
   "source": [
    "from transformers import AutoTokenizer\n",
    "tokenizer = AutoTokenizer.from_pretrained(\"EleutherAI/polyglot-ko-5.8b\")"
   ]
  },
  {
   "cell_type": "code",
   "execution_count": 8,
   "metadata": {},
   "outputs": [
    {
     "name": "stdout",
     "output_type": "stream",
     "text": [
      "{'input_ids': [13417, 284, 1934], 'token_type_ids': [0, 0, 0], 'attention_mask': [1, 1, 1]}\n"
     ]
    },
    {
     "data": {
      "text/plain": [
       "['ìķĪëħķ', 'íķĺ', 'ìĦ¸ìļĶ']"
      ]
     },
     "execution_count": 8,
     "metadata": {},
     "output_type": "execute_result"
    }
   ],
   "source": [
    "print(tokenizer(\"안녕하세요\"))\n",
    "tokenizer.tokenize(\"안녕하세요\")"
   ]
  },
  {
   "cell_type": "code",
   "execution_count": 15,
   "metadata": {},
   "outputs": [
    {
     "data": {
      "text/html": [
       "<div>\n",
       "<style scoped>\n",
       "    .dataframe tbody tr th:only-of-type {\n",
       "        vertical-align: middle;\n",
       "    }\n",
       "\n",
       "    .dataframe tbody tr th {\n",
       "        vertical-align: top;\n",
       "    }\n",
       "\n",
       "    .dataframe thead th {\n",
       "        text-align: right;\n",
       "    }\n",
       "</style>\n",
       "<table border=\"1\" class=\"dataframe\">\n",
       "  <thead>\n",
       "    <tr style=\"text-align: right;\">\n",
       "      <th></th>\n",
       "      <th>text</th>\n",
       "    </tr>\n",
       "  </thead>\n",
       "  <tbody>\n",
       "    <tr>\n",
       "      <th>17</th>\n",
       "      <td>### 명령어: 다음의 떡볶이에 대한 리뷰를 특성 세부설명 형식으로 요약하세요\\n\\...</td>\n",
       "    </tr>\n",
       "  </tbody>\n",
       "</table>\n",
       "</div>"
      ],
      "text/plain": [
       "                                                 text\n",
       "17  ### 명령어: 다음의 떡볶이에 대한 리뷰를 특성 세부설명 형식으로 요약하세요\\n\\..."
      ]
     },
     "execution_count": 15,
     "metadata": {},
     "output_type": "execute_result"
    }
   ],
   "source": [
    "import json\n",
    "import pandas as pd\n",
    "with open(\"../data/review_summary_prototype_textonly.json\", \"r\", encoding=\"utf-8\") as f:\n",
    "    data_list = json.load(f)\n",
    "df = pd.DataFrame(data_list)\n",
    "df.sample(1)\n"
   ]
  },
  {
   "cell_type": "code",
   "execution_count": 16,
   "metadata": {},
   "outputs": [
    {
     "data": {
      "text/html": [
       "<div>\n",
       "<style scoped>\n",
       "    .dataframe tbody tr th:only-of-type {\n",
       "        vertical-align: middle;\n",
       "    }\n",
       "\n",
       "    .dataframe tbody tr th {\n",
       "        vertical-align: top;\n",
       "    }\n",
       "\n",
       "    .dataframe thead th {\n",
       "        text-align: right;\n",
       "    }\n",
       "</style>\n",
       "<table border=\"1\" class=\"dataframe\">\n",
       "  <thead>\n",
       "    <tr style=\"text-align: right;\">\n",
       "      <th></th>\n",
       "      <th>text</th>\n",
       "      <th>length</th>\n",
       "    </tr>\n",
       "  </thead>\n",
       "  <tbody>\n",
       "    <tr>\n",
       "      <th>38</th>\n",
       "      <td>### 명령어: 다음의 떡볶이에 대한 리뷰를 특성 세부설명 형식으로 요약하세요\\n\\...</td>\n",
       "      <td>297</td>\n",
       "    </tr>\n",
       "  </tbody>\n",
       "</table>\n",
       "</div>"
      ],
      "text/plain": [
       "                                                 text  length\n",
       "38  ### 명령어: 다음의 떡볶이에 대한 리뷰를 특성 세부설명 형식으로 요약하세요\\n\\...     297"
      ]
     },
     "execution_count": 16,
     "metadata": {},
     "output_type": "execute_result"
    }
   ],
   "source": [
    "def find_length(text):\n",
    "    ids = tokenizer(text).input_ids\n",
    "    return len(ids)\n",
    "\n",
    "df[\"length\"] = df[\"text\"].apply(lambda x: find_length(x))\n",
    "df.sample(1)"
   ]
  },
  {
   "cell_type": "code",
   "execution_count": 17,
   "metadata": {},
   "outputs": [
    {
     "data": {
      "text/html": [
       "<div>\n",
       "<style scoped>\n",
       "    .dataframe tbody tr th:only-of-type {\n",
       "        vertical-align: middle;\n",
       "    }\n",
       "\n",
       "    .dataframe tbody tr th {\n",
       "        vertical-align: top;\n",
       "    }\n",
       "\n",
       "    .dataframe thead th {\n",
       "        text-align: right;\n",
       "    }\n",
       "</style>\n",
       "<table border=\"1\" class=\"dataframe\">\n",
       "  <thead>\n",
       "    <tr style=\"text-align: right;\">\n",
       "      <th></th>\n",
       "      <th>length</th>\n",
       "    </tr>\n",
       "  </thead>\n",
       "  <tbody>\n",
       "    <tr>\n",
       "      <th>count</th>\n",
       "      <td>87.000000</td>\n",
       "    </tr>\n",
       "    <tr>\n",
       "      <th>mean</th>\n",
       "      <td>272.781609</td>\n",
       "    </tr>\n",
       "    <tr>\n",
       "      <th>std</th>\n",
       "      <td>66.955630</td>\n",
       "    </tr>\n",
       "    <tr>\n",
       "      <th>min</th>\n",
       "      <td>79.000000</td>\n",
       "    </tr>\n",
       "    <tr>\n",
       "      <th>25%</th>\n",
       "      <td>235.000000</td>\n",
       "    </tr>\n",
       "    <tr>\n",
       "      <th>50%</th>\n",
       "      <td>275.000000</td>\n",
       "    </tr>\n",
       "    <tr>\n",
       "      <th>75%</th>\n",
       "      <td>313.500000</td>\n",
       "    </tr>\n",
       "    <tr>\n",
       "      <th>max</th>\n",
       "      <td>399.000000</td>\n",
       "    </tr>\n",
       "  </tbody>\n",
       "</table>\n",
       "</div>"
      ],
      "text/plain": [
       "           length\n",
       "count   87.000000\n",
       "mean   272.781609\n",
       "std     66.955630\n",
       "min     79.000000\n",
       "25%    235.000000\n",
       "50%    275.000000\n",
       "75%    313.500000\n",
       "max    399.000000"
      ]
     },
     "execution_count": 17,
     "metadata": {},
     "output_type": "execute_result"
    }
   ],
   "source": [
    "df.describe()"
   ]
  },
  {
   "attachments": {},
   "cell_type": "markdown",
   "metadata": {},
   "source": [
    "# 추론"
   ]
  },
  {
   "cell_type": "code",
   "execution_count": 1,
   "metadata": {},
   "outputs": [
    {
     "name": "stderr",
     "output_type": "stream",
     "text": [
      "/opt/conda/envs/mrc/lib/python3.8/site-packages/tqdm/auto.py:21: TqdmWarning: IProgress not found. Please update jupyter and ipywidgets. See https://ipywidgets.readthedocs.io/en/stable/user_install.html\n",
      "  from .autonotebook import tqdm as notebook_tqdm\n",
      "Loading checkpoint shards: 100%|██████████| 2/2 [00:08<00:00,  4.36s/it]\n",
      "Xformers is not installed correctly. If you want to use memorry_efficient_attention to accelerate training use the following command to install Xformers\n",
      "pip install xformers.\n"
     ]
    }
   ],
   "source": [
    "import torch\n",
    "from transformers import pipeline, AutoModelForCausalLM\n",
    "# MODEL = \"models/0_e5\" # 가장 결과 좋음\n",
    "# MODEL = \"models/koalpaca-ft-myFormat\"\n",
    "MODEL = \"models/koalpaca-ft\"\n",
    "# MODEL = \"models/0_noTag\"\n",
    "# MODEL = \"models/e10\"\n",
    "# MODEL = \"models/e5lr1/\"\n",
    "model = AutoModelForCausalLM.from_pretrained(\n",
    "    MODEL,\n",
    "    torch_dtype=torch.float16,\n",
    "    low_cpu_mem_usage=True,\n",
    ").to(device=f\"cuda\", non_blocking=True)\n",
    "model.eval()\n",
    "\n",
    "pipe = pipeline(\n",
    "    'text-generation', \n",
    "    model=model,\n",
    "    tokenizer=MODEL,\n",
    "    device=0\n",
    ")"
   ]
  },
  {
   "cell_type": "code",
   "execution_count": 8,
   "metadata": {},
   "outputs": [],
   "source": [
    "def ask(keyword, review, is_input_full=False):\n",
    "    text = ( # multi-line string\n",
    "        \"### 질문: 다음의 {keyword}에 대한 리뷰를 특성 세부설명 형식으로 요약하세요.\\n\\n\"\n",
    "        \"\" + review + \"\\n\\n\"\n",
    "        \"### 답변:\"\n",
    "    )\n",
    "    \n",
    "    ans = pipe(\n",
    "        text, \n",
    "        do_sample=True, \n",
    "        max_new_tokens=512,\n",
    "        temperature=0.7,\n",
    "        top_p=0.9,\n",
    "        return_full_text=False,\n",
    "        eos_token_id=2,\n",
    "    )\n",
    "    result = ans[0]['generated_text']\n",
    "    return result\n",
    "\n",
    "# def ask(keyword, review, is_input_full=False):\n",
    "#     ans = pipe(\n",
    "#         f\"### 명령어: 다음의 {keyword.strip()}에 대한 리뷰를 특성 세부설명 형식으로 요약하세요\\n\\n### 리뷰: {review}\\n\\n### 요약:\", \n",
    "#         do_sample=True, \n",
    "#         max_new_tokens=512,\n",
    "#         temperature=0.7,\n",
    "#         top_p=0.9,\n",
    "#         return_full_text=False,\n",
    "#         eos_token_id=2,\n",
    "#     )\n",
    "#     result = ans[0]['generated_text']\n",
    "#     return result"
   ]
  },
  {
   "cell_type": "code",
   "execution_count": 9,
   "metadata": {},
   "outputs": [],
   "source": [
    "test_data = [\n",
    "    (\"떡볶이\", \"일단 결론부터 말씀드리자면 이 떡볶이 진짜 맛있어요진짜 맛은 있는데 생각보다 양이 너무 적어서 ㅠㅠ 그게 좀 아쉽솔직히 혼자서도 충분히 다 먹을 수 있을 양이고요 그냥 딱 1인분인듯 ㅋㅋ 그래도 그나마 2봉지라 다행인건지 ㅠㅠ저는 사실 이 떡볶이만 벌써 4번째 재구매고요2봉지가 한세트 구성인데 저는 한 번 구매할때마다 2세트씩 구매하고 있답니다그만큼 맛에서는 충분히 만족하고 있는 떡볶이이긴 하나 가격대비 양이 너무 적은 건 좀 섭섭함 ㅋㅋㅋ그리고 저는 사실 떡보다는 오뎅을 더 좋아하는 편이라오뎅을 따로 더 넣어서 조리하는 편입니다집에 양배추랑 대파도 있으시면 왠만하면 넣으세용 저는 오뎅 양배추 대파 삶은계란까지 꼭꼭 넣어서 먹거든요 그렇게 먹으니 진짜 맛있더라고요 ㅋㅋㅋ아 그리고 사리종류로 라면사리나 당면사리를 살짝 넣어드셔도 좋아요저는 라면사리보다는 당면사리를 좀 더 좋아하긴 합니다 키키키키아무튼간에 이 떡볶이 안드셔보신 분이 계시다면강력하게 추천드립니다 ㅋㅋㅋ 꼭꼭 드셔보세용\"),\n",
    "    (\"떡볶이\", \"간단한 간식거리를 찾다 보니 두께라는 이름에 한 떡볶이집이 생각나서 홀린 듯이 구입하게 되었네요구성은 여느 간편조리 떡볶이와 비슷한데 왠지 모르게 별거 아닌데도 맘에 드는 모양새였어요 만드는 법도 간단하고 만들고 나서의 모습도 완벽한 이상적인 떡볶이의 형태여서 맛있게 잘 먹었습니다\"),\n",
    "    (\"떡볶이\", \"떡볶이 처돌이라 여러종류 시켜먹어보는데 무난한 맛입니다 단맛이 살짝 아쉬워서 양파나 양배추 넣어서 먹으면 좋을 것 같습니다 저같은 경우는 치즈한 장 넣어서 떡볶이랑 먹으니 정말 맛있었습니다 떡볶이 떡이 길어서 뭔가 먹는 재미가 있었습니다\"),\n",
    "    (\"떡볶이\", \"아무리 생각해도 이상해요떡볶이는 왜 먹어도 먹어도 질리지 않을까요모든 떡볶이를 다 좋아하는데 요즘은 이 상품에 꽂혔어요미미네 떡볶이미미네 한창 유행할 때 가게에서 먹어보고다시 먹으러 찾아가기는 귀찮아서 혹시나하고 쿠팡에서 검색해봤어요역시나 로켓 프레시 배송이 되서 급 기분 좋아지더라고요다음 날 새벽 배송 바로 받고 점심으로 보글보글 끓여 먹어봤어요음 역시나 조리법도 너무 간단하고 맛도 평타 이상이예요아무래도 떡이 냉동되서 끓이면 갈라지고 냉장떡보다는 좀 풀어진다고해야하나 그렇기는 합니다그래도 떡볶이는 양념 맛이 중요하니까 아주 먹을만하고 만족스러워요다른거보다 국물 떡볶이라서 떠먹는 국물이 맛이 좋아서 합격 그리고 어묵이 포함이 되서 더 괜찮은 거 같네요추천합니다\"),\n",
    "    (\"치킨\", \"평소에 가라아게 치킨좋아해서 보이면 사는편입니다물가올라서 1k 비싼편인데 착한가격이라 사봄 500g 23인분다리살 부드러움국내산이 아니라아쉽지만브라질산잡내없이 맛있음 에어프라이 180 15분 기본으로 굽고 좀더 바싹함을 원함 5분정도 더 구움되요기본만 구움 좀 물컹하더라구요 갠적으로 바싹한 느낌을좋아해서요 기본적으로 간이 되어있어서 맛은 좋아요양은 한봉다리 다 뜯은거구요 엄청 많지는않지만 가격대비는괜찮은듯 해요더 짭짭한거 좋아하시는분들은 소스 찍어드셔도좋을것 같아요\"),\n",
    "    (\"치킨\", \"유명한 애 보다 고기 함량도 10프로 높아요덜 짜고 육즙도 한가득이엇어요에어프라이어 14분정도 돌렸더니바삭하고 맛잇어요전에 주문해서 먹고 남았던 치킨소스남은거랑 머스타드 소스 같이 하니굳 이네요 마지막에 파슬리를솔솔 뿌려 주었더니 더 보기 좋네요맥주 안주 겸 아이 간식 겸 주문 했는데 너무 만족스럽습니다이틀만에 다먹어버렸어요 ㅠㅠㅠㅠ완전 추천드립니다\"),\n",
    "    (\"치킨\", \"우연히 배달음식 사이드로 먹어본 가라아게가너무 맛있어서 찾고 있는데 이건 아니었어요ㅠ사세 다른 시리즈 가라아게도 도전해보려고요\"),\n",
    "    (\"치킨\", \"내돈내산 구매 후기 입니다주관적일 수 밖에 없지만 최대한 객관적으로 적어보겠습니다상품명 사세 치킨 가라아게 냉동 500g 2개구매일시 23 05 12도착일시 23 05 13재구매 의사 있음사세 핫윙인가 여튼 그 닭날개가 유명한데다른 제품들도 다 기본 이상으로 맛있어요 그래도 이 가라아게는 처음 먹어보는데저는 일단 가라아게를 무척이나 좋아하는 편이 가라아게 맛이 좋은 편이에요다른 싸구려 가라아게 보다 훨씬 고급진 느낌겉은 바삭하면서속이 좀 부드러운 것보다 쫀득한 느낌 기름에 튀겨도 맛있고그냥 기름 살짝 버무려서 에어프라이에 돌려도아주 맛이 좋습니다 만족 조금이라도 도움이 되셨다면 아래 도움이 돼요버튼 한번 눌러 주시면 감사하겠습니다\")   \n",
    "]"
   ]
  },
  {
   "cell_type": "code",
   "execution_count": 10,
   "metadata": {},
   "outputs": [],
   "source": [
    "import re\n",
    "\n",
    "# 특수문자, 초성어 제거\n",
    "def clean_text(sent):\n",
    "    sent_clean = re.sub(\"[^가-힣ㄱ-ㅎㅏ-ㅣ\\\\s0-9a-zA-Z]\", \" \", sent)\n",
    "    sent_clean = re.sub(\"[ㄱ-ㅎㅏ-ㅣ]+\", \"\", sent_clean)\n",
    "    sent_clean = \" \".join(sent_clean.split())\n",
    "    return sent_clean"
   ]
  },
  {
   "cell_type": "code",
   "execution_count": 11,
   "metadata": {},
   "outputs": [
    {
     "name": "stderr",
     "output_type": "stream",
     "text": [
      "/opt/conda/envs/mrc/lib/python3.8/site-packages/transformers/generation/utils.py:1255: UserWarning: You have modified the pretrained model configuration to control generation. This is a deprecated strategy to control generation and will be removed soon, in a future version. Please use a generation configuration file (see https://huggingface.co/docs/transformers/main_classes/text_generation)\n",
      "  warnings.warn(\n",
      "Setting `pad_token_id` to `eos_token_id`:2 for open-end generation.\n",
      "Setting `pad_token_id` to `eos_token_id`:2 for open-end generation.\n",
      "Setting `pad_token_id` to `eos_token_id`:2 for open-end generation.\n",
      "Setting `pad_token_id` to `eos_token_id`:2 for open-end generation.\n",
      "Setting `pad_token_id` to `eos_token_id`:2 for open-end generation.\n",
      "Setting `pad_token_id` to `eos_token_id`:2 for open-end generation.\n",
      "Setting `pad_token_id` to `eos_token_id`:2 for open-end generation.\n",
      "Setting `pad_token_id` to `eos_token_id`:2 for open-end generation.\n"
     ]
    },
    {
     "name": "stdout",
     "output_type": "stream",
     "text": [
      "file: test_result/koalpaca-ft.json\n"
     ]
    }
   ],
   "source": [
    "import json\n",
    "import os\n",
    "\n",
    "summary = []\n",
    "for keyword, review in test_data:\n",
    "    clean_review = clean_text(review)\n",
    "    result = ask(keyword, clean_review)\n",
    "    item = {\"review\": clean_review, \"summary\": result}\n",
    "    summary.append(item)\n",
    "\n",
    "name = MODEL.strip().split(\".\")[0].split(\"/\")[-1]\n",
    "path = \"test_result/\"+name + \".json\"\n",
    "\n",
    "os.makedirs(\"test_result\", exist_ok=True)\n",
    "\n",
    "with open(path, \"w\", encoding=\"utf-8\") as f:\n",
    "    json.dump(summary, f, ensure_ascii=False)\n",
    "\n",
    "print(\"file:\", path)\n",
    "\n",
    "# for item in summary:\n",
    "#     print(\"-\"*5, \"review\", \"-\"*5)\n",
    "#     print(item[\"review\"])\n",
    "#     print(\"-\"*5, \"summary\", \"-\"*5)\n",
    "#     print(item[\"summary\"])  \n"
   ]
  },
  {
   "cell_type": "code",
   "execution_count": null,
   "metadata": {},
   "outputs": [],
   "source": []
  }
 ],
 "metadata": {
  "kernelspec": {
   "display_name": "mrc",
   "language": "python",
   "name": "python3"
  },
  "language_info": {
   "codemirror_mode": {
    "name": "ipython",
    "version": 3
   },
   "file_extension": ".py",
   "mimetype": "text/x-python",
   "name": "python",
   "nbconvert_exporter": "python",
   "pygments_lexer": "ipython3",
   "version": "3.8.5"
  },
  "orig_nbformat": 4
 },
 "nbformat": 4,
 "nbformat_minor": 2
}
